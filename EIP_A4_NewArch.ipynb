{
  "nbformat": 4,
  "nbformat_minor": 0,
  "metadata": {
    "colab": {
      "name": "EIP_A4_NewArch.ipynb",
      "version": "0.3.2",
      "provenance": [],
      "collapsed_sections": [],
      "include_colab_link": true
    },
    "kernelspec": {
      "name": "python3",
      "display_name": "Python 3"
    },
    "accelerator": "GPU"
  },
  "cells": [
    {
      "cell_type": "markdown",
      "metadata": {
        "id": "view-in-github",
        "colab_type": "text"
      },
      "source": [
        "<a href=\"https://colab.research.google.com/github/Ashish-Tripathy/EIP/blob/master/EIP_A4_NewArch.ipynb\" target=\"_parent\"><img src=\"https://colab.research.google.com/assets/colab-badge.svg\" alt=\"Open In Colab\"/></a>"
      ]
    },
    {
      "metadata": {
        "id": "CClytkesUlUt",
        "colab_type": "code",
        "outputId": "23043adf-ec26-4d8b-8c5f-b78cf38a21d9",
        "colab": {
          "base_uri": "https://localhost:8080/",
          "height": 223
        }
      },
      "cell_type": "code",
      "source": [
        "!wget http://cs231n.stanford.edu/tiny-imagenet-200.zip"
      ],
      "execution_count": 0,
      "outputs": [
        {
          "output_type": "stream",
          "text": [
            "--2019-03-24 11:47:53--  http://cs231n.stanford.edu/tiny-imagenet-200.zip\n",
            "Resolving cs231n.stanford.edu (cs231n.stanford.edu)... 171.64.68.10\n",
            "Connecting to cs231n.stanford.edu (cs231n.stanford.edu)|171.64.68.10|:80... connected.\n",
            "HTTP request sent, awaiting response... 200 OK\n",
            "Length: 248100043 (237M) [application/zip]\n",
            "Saving to: ‘tiny-imagenet-200.zip’\n",
            "\n",
            "tiny-imagenet-200.z 100%[===================>] 236.61M  62.5MB/s    in 4.7s    \n",
            "\n",
            "2019-03-24 11:48:03 (50.4 MB/s) - ‘tiny-imagenet-200.zip’ saved [248100043/248100043]\n",
            "\n"
          ],
          "name": "stdout"
        }
      ]
    },
    {
      "metadata": {
        "id": "gc3niXNOYQyk",
        "colab_type": "code",
        "outputId": "06e377da-e560-4ea2-81d5-33fd50f51d1f",
        "colab": {
          "base_uri": "https://localhost:8080/",
          "height": 36
        }
      },
      "cell_type": "code",
      "source": [
        "!unzip -q 'tiny-imagenet-200.zip'\n",
        "!ls"
      ],
      "execution_count": 0,
      "outputs": [
        {
          "output_type": "stream",
          "text": [
            "sample_data  tiny-imagenet-200\ttiny-imagenet-200.zip\n"
          ],
          "name": "stdout"
        }
      ]
    },
    {
      "metadata": {
        "id": "661l2nYfYQvT",
        "colab_type": "code",
        "outputId": "18428810-4886-4187-a535-aff93a256a14",
        "colab": {
          "base_uri": "https://localhost:8080/",
          "height": 36
        }
      },
      "cell_type": "code",
      "source": [
        "import pandas as pd\n",
        "from keras.preprocessing.image import ImageDataGenerator\n",
        "\n"
      ],
      "execution_count": 0,
      "outputs": [
        {
          "output_type": "stream",
          "text": [
            "Using TensorFlow backend.\n"
          ],
          "name": "stderr"
        }
      ]
    },
    {
      "metadata": {
        "id": "X3oHs-YOvLk6",
        "colab_type": "code",
        "outputId": "46bd6583-afc8-442d-af46-2279249f6305",
        "colab": {
          "base_uri": "https://localhost:8080/",
          "height": 148
        }
      },
      "cell_type": "code",
      "source": [
        "val_data = pd.read_csv('./tiny-imagenet-200/val/val_annotations.txt', sep='\\t', header=None, names=['File', 'Class', 'X', 'Y', 'H', 'W'])\n",
        "val_data.drop(['X', 'Y', 'H', 'W'], axis=1, inplace=True)\n",
        "#each class in validation has 50 images each\n",
        "print(val_data.head(3))\n",
        "x = list(val_data['Class'].unique()[0:10])\n",
        "val_data_red = val_data[val_data['Class'] .isin(x)]\n",
        "val_data_red.Class.unique()"
      ],
      "execution_count": 0,
      "outputs": [
        {
          "output_type": "stream",
          "text": [
            "         File      Class\n",
            "0  val_0.JPEG  n03444034\n",
            "1  val_1.JPEG  n04067472\n",
            "2  val_2.JPEG  n04070727\n"
          ],
          "name": "stdout"
        },
        {
          "output_type": "execute_result",
          "data": {
            "text/plain": [
              "array(['n03444034', 'n04067472', 'n04070727', 'n02808440', 'n04399382',\n",
              "       'n04179913', 'n02823428', 'n04146614', 'n02226429', 'n04371430'],\n",
              "      dtype=object)"
            ]
          },
          "metadata": {
            "tags": []
          },
          "execution_count": 2
        }
      ]
    },
    {
      "metadata": {
        "id": "FWNhEhy5MBR7",
        "colab_type": "code",
        "colab": {}
      },
      "cell_type": "code",
      "source": [
        "#!mkdir '/content/tiny-imagenet-200/tiny-imagenet-10'\n",
        "!cp -r  '/content/tiny-imagenet-200/train/n03444034' '/content/tiny-imagenet-200/tiny-imagenet-10'\n",
        "!cp -r  '/content/tiny-imagenet-200/train/n04067472' '/content/tiny-imagenet-200/tiny-imagenet-10'\n",
        "!cp -r  '/content/tiny-imagenet-200/train/n04070727' '/content/tiny-imagenet-200/tiny-imagenet-10'\n",
        "!cp -r  '/content/tiny-imagenet-200/train/n02808440' '/content/tiny-imagenet-200/tiny-imagenet-10'\n",
        "!cp -r  '/content/tiny-imagenet-200/train/n04399382' '/content/tiny-imagenet-200/tiny-imagenet-10'\n",
        "!cp -r  '/content/tiny-imagenet-200/train/n04179913' '/content/tiny-imagenet-200/tiny-imagenet-10'\n",
        "!cp -r  '/content/tiny-imagenet-200/train/n02823428' '/content/tiny-imagenet-200/tiny-imagenet-10'\n",
        "!cp -r  '/content/tiny-imagenet-200/train/n04146614' '/content/tiny-imagenet-200/tiny-imagenet-10'\n",
        "!cp -r  '/content/tiny-imagenet-200/train/n02226429' '/content/tiny-imagenet-200/tiny-imagenet-10'\n",
        "!cp -r  '/content/tiny-imagenet-200/train/n04371430' '/content/tiny-imagenet-200/tiny-imagenet-10'"
      ],
      "execution_count": 0,
      "outputs": []
    },
    {
      "metadata": {
        "id": "Xub4hJ0k74pA",
        "colab_type": "code",
        "colab": {}
      },
      "cell_type": "code",
      "source": [
        "!ls './tiny-imagenet-200/train/n01443537/images'"
      ],
      "execution_count": 0,
      "outputs": []
    },
    {
      "metadata": {
        "id": "4DoUtULs6n4G",
        "colab_type": "code",
        "outputId": "9461edfd-dc14-4213-f2ba-47d43bc16779",
        "colab": {
          "base_uri": "https://localhost:8080/",
          "height": 368
        }
      },
      "cell_type": "code",
      "source": [
        "import matplotlib.pyplot as plt\n",
        "import matplotlib.image as mpimg\n",
        "\n",
        "train_img = \"tiny-imagenet-200/train/n01443537/images/n01443537_382.JPEG\"\n",
        "image = mpimg.imread(train_img)\n",
        "plt.show()\n",
        "plt.imshow(image)\n",
        "\n"
      ],
      "execution_count": 0,
      "outputs": [
        {
          "output_type": "execute_result",
          "data": {
            "text/plain": [
              "<matplotlib.image.AxesImage at 0x7feecc926a90>"
            ]
          },
          "metadata": {
            "tags": []
          },
          "execution_count": 6
        },
        {
          "output_type": "display_data",
          "data": {
            "image/png": "[encoded data removed]",
            "text/plain": [
              "<Figure size 576x396 with 1 Axes>"
            ]
          },
          "metadata": {
            "tags": []
          }
        }
      ]
    },
    {
      "metadata": {
        "id": "7BCsUPUFx6HF",
        "colab_type": "text"
      },
      "cell_type": "markdown",
      "source": [
        "# Using Image Data Generator for reading the scaled 32x32 images from the unzipped files"
      ]
    },
    {
      "metadata": {
        "id": "qbYJBLWgwExi",
        "colab_type": "code",
        "colab": {}
      },
      "cell_type": "code",
      "source": [
        "# Use Augmentaion parameters as required.\n",
        "train_datagen = ImageDataGenerator(\n",
        "    rescale= 1./255,\n",
        "    #zoom_range = 0.3,\n",
        "    #width_shift_range=0.2,\n",
        "    #height_shift_range=0.2,\n",
        "    #rotation_range=40,\n",
        "    #horizontal_flip=True\n",
        "       \n",
        "    )\n",
        "\n",
        "valid_datagen = ImageDataGenerator(rescale=1./255)"
      ],
      "execution_count": 0,
      "outputs": []
    },
    {
      "metadata": {
        "id": "y-jkQYh3wBIm",
        "colab_type": "code",
        "outputId": "620a9895-2544-43cd-875a-d1da255439f4",
        "colab": {
          "base_uri": "https://localhost:8080/",
          "height": 54
        }
      },
      "cell_type": "code",
      "source": [
        "train_generator = train_datagen.flow_from_directory( r'./tiny-imagenet-200/tiny-imagenet-10', target_size=(32, 32), color_mode='rgb', \n",
        "                                                    batch_size=200, class_mode='categorical', shuffle=True, seed=42)\n",
        "train_generator"
      ],
      "execution_count": 0,
      "outputs": [
        {
          "output_type": "stream",
          "text": [
            "Found 5000 images belonging to 10 classes.\n"
          ],
          "name": "stdout"
        },
        {
          "output_type": "execute_result",
          "data": {
            "text/plain": [
              "<keras_preprocessing.image.directory_iterator.DirectoryIterator at 0x7f95ef924198>"
            ]
          },
          "metadata": {
            "tags": []
          },
          "execution_count": 4
        }
      ]
    },
    {
      "metadata": {
        "id": "iRL_uZ3Nwe2E",
        "colab_type": "code",
        "outputId": "56036b5b-c013-4993-e263-9f42cac51420",
        "colab": {
          "base_uri": "https://localhost:8080/",
          "height": 54
        }
      },
      "cell_type": "code",
      "source": [
        "validation_generator = valid_datagen.flow_from_dataframe(val_data_red, directory='./tiny-imagenet-200/val/images', x_col='File', y_col='Class', target_size=(32, 32),\n",
        "                                                    color_mode='rgb', class_mode='categorical', batch_size=20, shuffle=True, seed=42)\n",
        "validation_generator"
      ],
      "execution_count": 0,
      "outputs": [
        {
          "output_type": "stream",
          "text": [
            "Found 500 images belonging to 10 classes.\n"
          ],
          "name": "stdout"
        },
        {
          "output_type": "execute_result",
          "data": {
            "text/plain": [
              "<keras_preprocessing.image.dataframe_iterator.DataFrameIterator at 0x7f95ef924630>"
            ]
          },
          "metadata": {
            "tags": []
          },
          "execution_count": 5
        }
      ]
    },
    {
      "metadata": {
        "id": "jjmS1dmMzoTg",
        "colab_type": "code",
        "outputId": "8f502011-f6d5-4e15-d0b3-d90b567303f6",
        "colab": {
          "base_uri": "https://localhost:8080/",
          "height": 376
        }
      },
      "cell_type": "code",
      "source": [
        "import matplotlib.pyplot as plt\n",
        "x_batch, y_batch = next(train_generator)\n",
        "fig = plt.figure(figsize=(14, 6))\n",
        "\n",
        "for i in range(8):\n",
        "    sub = fig.add_subplot(2, 4, i + 1)\n",
        "    sub.imshow(x_batch[i,:,:], interpolation='nearest')"
      ],
      "execution_count": 0,
      "outputs": [
        {
          "output_type": "display_data",
          "data": {
            "image/png": "[encoded data removed]",
            "text/plain": [
              "<Figure size 1008x432 with 8 Axes>"
            ]
          },
          "metadata": {
            "tags": []
          }
        }
      ]
    },
    {
      "metadata": {
        "id": "rJefWQ0QBVdB",
        "colab_type": "text"
      },
      "cell_type": "markdown",
      "source": [
        "# RESNET Code from Github"
      ]
    },
    {
      "metadata": {
        "id": "QLwXaWjdBVDZ",
        "colab_type": "code",
        "colab": {}
      },
      "cell_type": "code",
      "source": [
        "from __future__ import division\n",
        "\n",
        "import six\n",
        "from keras.models import Model\n",
        "from keras.layers import (\n",
        "    Input,\n",
        "    Activation,\n",
        "    Dense,\n",
        "    Flatten,\n",
        "    Dropout\n",
        ")\n",
        "from keras.layers.convolutional import (\n",
        "    Conv2D,\n",
        "    MaxPooling2D,\n",
        "    AveragePooling2D\n",
        ")\n",
        "from keras.layers.merge import add\n",
        "from keras.layers.normalization import BatchNormalization\n",
        "from keras.regularizers import l2\n",
        "from keras import backend as K\n",
        "\n",
        "\n",
        "def _bn_relu(input):\n",
        "    \"\"\"Helper to build a BN -> relu block\n",
        "    \"\"\"\n",
        "    norm = BatchNormalization(axis=CHANNEL_AXIS)(input)\n",
        "    return Activation(\"relu\")(norm)\n",
        "\n",
        "\n",
        "def _conv_bn_relu(**conv_params):\n",
        "    \"\"\"Helper to build a conv -> BN -> relu block\n",
        "    \"\"\"\n",
        "    filters = conv_params[\"filters\"]\n",
        "    kernel_size = conv_params[\"kernel_size\"]\n",
        "    strides = conv_params.setdefault(\"strides\", (1, 1))\n",
        "    kernel_initializer = conv_params.setdefault(\"kernel_initializer\", \"he_normal\")\n",
        "    padding = conv_params.setdefault(\"padding\", \"same\")\n",
        "    kernel_regularizer = conv_params.setdefault(\"kernel_regularizer\", l2(1.e-4))\n",
        "\n",
        "    def f(input):\n",
        "        conv = Conv2D(filters=filters, kernel_size=kernel_size,\n",
        "                      strides=strides, padding=padding,\n",
        "                      kernel_initializer=kernel_initializer,\n",
        "                      kernel_regularizer=kernel_regularizer)(input)\n",
        "        return _bn_relu(conv)\n",
        "\n",
        "    return f\n",
        "\n",
        "\n",
        "def _bn_relu_conv(**conv_params):\n",
        "    \"\"\"Helper to build a BN -> relu -> conv block.\n",
        "    This is an improved scheme proposed in http://arxiv.org/pdf/1603.05027v2.pdf\n",
        "    \"\"\"\n",
        "    filters = conv_params[\"filters\"]\n",
        "    kernel_size = conv_params[\"kernel_size\"]\n",
        "    strides = conv_params.setdefault(\"strides\", (1, 1))\n",
        "    kernel_initializer = conv_params.setdefault(\"kernel_initializer\", \"he_normal\")\n",
        "    padding = conv_params.setdefault(\"padding\", \"same\")\n",
        "    kernel_regularizer = conv_params.setdefault(\"kernel_regularizer\", l2(1.e-4))\n",
        "\n",
        "    def f(input):\n",
        "        activation = _bn_relu(input)\n",
        "        return Conv2D(filters=filters, kernel_size=kernel_size,\n",
        "                      strides=strides, padding=padding,\n",
        "                      kernel_initializer=kernel_initializer,\n",
        "                      kernel_regularizer=kernel_regularizer)(activation)\n",
        "\n",
        "    return f\n",
        "\n",
        "\n",
        "def _shortcut(input, residual):\n",
        "    \"\"\"Adds a shortcut between input and residual block and merges them with \"sum\"\n",
        "    \"\"\"\n",
        "    # Expand channels of shortcut to match residual.\n",
        "    # Stride appropriately to match residual (width, height)\n",
        "    # Should be int if network architecture is correctly configured.\n",
        "    input_shape = K.int_shape(input)\n",
        "    residual_shape = K.int_shape(residual)\n",
        "    stride_width = int(round(input_shape[ROW_AXIS] / residual_shape[ROW_AXIS]))\n",
        "    stride_height = int(round(input_shape[COL_AXIS] / residual_shape[COL_AXIS]))\n",
        "    equal_channels = input_shape[CHANNEL_AXIS] == residual_shape[CHANNEL_AXIS]\n",
        "\n",
        "    shortcut = input\n",
        "    # 1 X 1 conv if shape is different. Else identity.\n",
        "    if stride_width > 1 or stride_height > 1 or not equal_channels:\n",
        "        shortcut = Conv2D(filters=residual_shape[CHANNEL_AXIS],\n",
        "                          kernel_size=(1, 1),\n",
        "                          strides=(stride_width, stride_height),\n",
        "                          padding=\"valid\",\n",
        "                          kernel_initializer=\"he_normal\",\n",
        "                          kernel_regularizer=l2(0.0001))(input)\n",
        "\n",
        "    return add([shortcut, residual])\n",
        "\n",
        "\n",
        "def _residual_block(block_function, filters, repetitions, is_first_layer=False):\n",
        "    \"\"\"Builds a residual block with repeating bottleneck blocks.\n",
        "    \"\"\"\n",
        "    def f(input):\n",
        "        for i in range(repetitions):\n",
        "            init_strides = (1, 1)\n",
        "            \n",
        "            input = block_function(filters=filters*(pow(2,i)), init_strides=init_strides,\n",
        "                                   is_first_block_of_first_layer=(is_first_layer))(input)\n",
        "            \n",
        "            input = Dropout(0.5)(input)\n",
        "            \n",
        "        input = _bn_relu_conv(filters=filters*2, kernel_size=(1, 1),\n",
        "                                     strides=init_strides)(input)\n",
        "        if is_first_layer:\n",
        "          return input\n",
        "        else:\n",
        "          input = MaxPooling2D(pool_size=(2, 2), strides=(2, 2), padding=\"same\")(input)\n",
        "          return input\n",
        "\n",
        "    return f\n",
        "\n",
        "\n",
        "def basic_block(filters, init_strides=(1, 1), is_first_block_of_first_layer=False):\n",
        "    \"\"\"Basic 3 X 3 convolution blocks for use on resnets with layers <= 34.\n",
        "    Follows improved proposed scheme in http://arxiv.org/pdf/1603.05027v2.pdf\n",
        "    \"\"\"\n",
        "    def f(input):\n",
        "\n",
        "        if is_first_block_of_first_layer:\n",
        "            # don't repeat bn->relu since we just did bn->relu->maxpool\n",
        "            conv1 = Conv2D(filters=filters, kernel_size=(3, 3),\n",
        "                           strides=init_strides,\n",
        "                           padding=\"same\",\n",
        "                           kernel_initializer=\"he_normal\",\n",
        "                           kernel_regularizer=l2(1e-4))(input)\n",
        "        else:\n",
        "            conv1 = _bn_relu_conv(filters=filters, kernel_size=(3, 3),\n",
        "                                  strides=init_strides)(input)\n",
        "\n",
        "        residual = _bn_relu_conv(filters=filters, kernel_size=(3, 3))(conv1)\n",
        "        return _shortcut(input, residual)\n",
        "\n",
        "    return f\n",
        "\n",
        "\n",
        "def bottleneck(filters, init_strides=(1, 1), is_first_block_of_first_layer=False):\n",
        "    \"\"\"Bottleneck architecture for > 34 layer resnet.\n",
        "    Follows improved proposed scheme in http://arxiv.org/pdf/1603.05027v2.pdf\n",
        "\n",
        "    Returns:\n",
        "        A final conv layer of filters * 4\n",
        "    \"\"\"\n",
        "    def f(input):\n",
        "\n",
        "        if is_first_block_of_first_layer:\n",
        "            # don't repeat bn->relu since we just did bn->relu->maxpool\n",
        "            conv_1_1 = Conv2D(filters=filters, kernel_size=(1, 1),\n",
        "                              strides=init_strides,\n",
        "                              padding=\"same\",\n",
        "                              kernel_initializer=\"he_normal\",\n",
        "                              kernel_regularizer=l2(1e-4))(input)\n",
        "        else:\n",
        "            conv_1_1 = _bn_relu_conv(filters=filters, kernel_size=(1, 1),\n",
        "                                     strides=init_strides)(input)\n",
        "\n",
        "        conv_3_3 = _bn_relu_conv(filters=filters, kernel_size=(3, 3))(conv_1_1)\n",
        "        residual = _bn_relu_conv(filters=filters * 4, kernel_size=(1, 1))(conv_3_3)\n",
        "        return _shortcut(input, residual)\n",
        "\n",
        "    return f\n",
        "\n",
        "\n",
        "def _handle_dim_ordering():\n",
        "    global ROW_AXIS\n",
        "    global COL_AXIS\n",
        "    global CHANNEL_AXIS\n",
        "    if K.image_dim_ordering() == 'tf':\n",
        "        ROW_AXIS = 1\n",
        "        COL_AXIS = 2\n",
        "        CHANNEL_AXIS = 3\n",
        "    else:\n",
        "        CHANNEL_AXIS = 1\n",
        "        ROW_AXIS = 2\n",
        "        COL_AXIS = 3\n",
        "\n",
        "\n",
        "def _get_block(identifier):\n",
        "    if isinstance(identifier, six.string_types):\n",
        "        res = globals().get(identifier)\n",
        "        if not res:\n",
        "            raise ValueError('Invalid {}'.format(identifier))\n",
        "        return res\n",
        "    return identifier\n",
        "\n",
        "\n",
        "class ResnetBuilder(object):\n",
        "    @staticmethod\n",
        "    def build(input_shape, num_outputs, block_fn, repetitions):\n",
        "        \"\"\"Builds a custom ResNet like architecture.\n",
        "\n",
        "        Args:\n",
        "            input_shape: The input shape in the form (nb_channels, nb_rows, nb_cols)\n",
        "            num_outputs: The number of outputs at final softmax layer\n",
        "            block_fn: The block function to use. This is either `basic_block` or `bottleneck`.\n",
        "                The original paper used basic_block for layers < 50\n",
        "            repetitions: Number of repetitions of various block units.\n",
        "                At each block unit, the number of filters are doubled and the input size is halved\n",
        "\n",
        "        Returns:\n",
        "            The keras `Model`.\n",
        "        \"\"\"\n",
        "        _handle_dim_ordering()\n",
        "        if len(input_shape) != 3:\n",
        "            raise Exception(\"Input shape should be a tuple (nb_channels, nb_rows, nb_cols)\")\n",
        "\n",
        "        # Permute dimension order if necessary\n",
        "        if K.image_dim_ordering() == 'tf':\n",
        "            input_shape = (input_shape[1], input_shape[2], input_shape[0])\n",
        "\n",
        "        # Load function from str if needed.\n",
        "        block_fn = _get_block(block_fn)\n",
        "\n",
        "        input = Input(shape=input_shape)\n",
        "        conv1 =  Conv2D(filters=32, kernel_size=(7, 7),\n",
        "                           strides=(1,1),\n",
        "                           padding=\"same\",\n",
        "                           kernel_initializer=\"he_normal\",\n",
        "                           kernel_regularizer=l2(1e-4))(input)\n",
        "        \n",
        "        #pool1 = MaxPooling2D(pool_size=(3, 3), strides=(2, 2), padding=\"same\")(conv1)\n",
        "\n",
        "        block = conv1\n",
        "        filters = 32\n",
        "        for i, r in enumerate(repetitions):\n",
        "            block = _residual_block(block_fn, filters=filters, repetitions=r, is_first_layer=(i == 0))(block)\n",
        "            filters *= 2\n",
        "\n",
        "        # Last activation\n",
        "        block = _bn_relu(block)\n",
        "\n",
        "        # Classifier block\n",
        "        block_shape = K.int_shape(block)\n",
        "        pool2 = AveragePooling2D(pool_size=(block_shape[ROW_AXIS], block_shape[COL_AXIS]),\n",
        "                                 strides=(1, 1))(block)\n",
        "        flatten1 = Flatten()(pool2)\n",
        "        dense = Dense(units=num_outputs, kernel_initializer=\"he_normal\",\n",
        "                      activation=\"softmax\")(flatten1)\n",
        "\n",
        "        model = Model(inputs=input, outputs=dense)\n",
        "        return model\n",
        "\n",
        "    @staticmethod\n",
        "    def build_resnet_18(input_shape, num_outputs):\n",
        "        return ResnetBuilder.build(input_shape, num_outputs, basic_block, [2, 2, 2, 2])\n",
        "\n",
        "    @staticmethod\n",
        "    def build_resnet_34(input_shape, num_outputs):\n",
        "        return ResnetBuilder.build(input_shape, num_outputs, basic_block, [2, 3,3,2])\n",
        "\n",
        "    @staticmethod\n",
        "    def build_resnet_50(input_shape, num_outputs):\n",
        "        return ResnetBuilder.build(input_shape, num_outputs, bottleneck, [3, 4, 6, 3])\n",
        "\n",
        "    @staticmethod\n",
        "    def build_resnet_101(input_shape, num_outputs):\n",
        "        return ResnetBuilder.build(input_shape, num_outputs, bottleneck, [3, 4, 23, 3])\n",
        "\n",
        "    @staticmethod\n",
        "    def build_resnet_152(input_shape, num_outputs):\n",
        "        return ResnetBuilder.build(input_shape, num_outputs, bottleneck, [3, 8, 36, 3])\n"
      ],
      "execution_count": 0,
      "outputs": []
    },
    {
      "metadata": {
        "id": "orYRKkVImM8N",
        "colab_type": "code",
        "outputId": "92b8ae25-945f-49ed-f13f-4f372ffccaf3",
        "colab": {
          "base_uri": "https://localhost:8080/",
          "height": 36
        }
      },
      "cell_type": "code",
      "source": [
        "pow(2,0)"
      ],
      "execution_count": 0,
      "outputs": [
        {
          "output_type": "execute_result",
          "data": {
            "text/plain": [
              "1"
            ]
          },
          "metadata": {
            "tags": []
          },
          "execution_count": 38
        }
      ]
    },
    {
      "metadata": {
        "id": "Rk-7RBYxz_bU",
        "colab_type": "code",
        "outputId": "c9a4be7c-fb71-48cc-a319-0e81df71c390",
        "colab": {
          "base_uri": "https://localhost:8080/",
          "height": 131
        }
      },
      "cell_type": "code",
      "source": [
        "from google.colab import drive\n",
        "drive.mount('/content/gdrive')"
      ],
      "execution_count": 0,
      "outputs": [
        {
          "output_type": "stream",
          "text": [
            "Go to this URL in a browser: https://accounts.google.com/o/oauth2/auth?client_id=947318989803-6bn6qk8qdgf4n4g3pfee6491hc0brc4i.apps.googleusercontent.com&redirect_uri=urn%3Aietf%3Awg%3Aoauth%3A2.0%3Aoob&scope=email%20https%3A%2F%2Fwww.googleapis.com%2Fauth%2Fdocs.test%20https%3A%2F%2Fwww.googleapis.com%2Fauth%2Fdrive%20https%3A%2F%2Fwww.googleapis.com%2Fauth%2Fdrive.photos.readonly%20https%3A%2F%2Fwww.googleapis.com%2Fauth%2Fpeopleapi.readonly&response_type=code\n",
            "\n",
            "Enter your authorization code:\n",
            "··········\n",
            "Mounted at /content/gdrive\n"
          ],
          "name": "stdout"
        }
      ]
    },
    {
      "metadata": {
        "id": "ygeN45A7BSzK",
        "colab_type": "code",
        "outputId": "0ae80dd3-a787-4da4-f272-501e646b66dc",
        "colab": {
          "base_uri": "https://localhost:8080/",
          "height": 149
        }
      },
      "cell_type": "code",
      "source": [
        "\n",
        "model = ResnetBuilder.build_resnet_34(input_shape = (3,32,32), num_outputs = 10)\n"
      ],
      "execution_count": 0,
      "outputs": [
        {
          "output_type": "stream",
          "text": [
            "WARNING:tensorflow:From /usr/local/lib/python3.6/dist-packages/tensorflow/python/framework/op_def_library.py:263: colocate_with (from tensorflow.python.framework.ops) is deprecated and will be removed in a future version.\n",
            "Instructions for updating:\n",
            "Colocations handled automatically by placer.\n",
            "WARNING:tensorflow:From /usr/local/lib/python3.6/dist-packages/keras/backend/tensorflow_backend.py:3445: calling dropout (from tensorflow.python.ops.nn_ops) with keep_prob is deprecated and will be removed in a future version.\n",
            "Instructions for updating:\n",
            "Please use `rate` instead of `keep_prob`. Rate should be set to `rate = 1 - keep_prob`.\n"
          ],
          "name": "stdout"
        }
      ]
    },
    {
      "metadata": {
        "id": "jVv2OFbLFFob",
        "colab_type": "code",
        "outputId": "c3b6fe43-9e79-452e-8f18-0fabe8180349",
        "colab": {
          "base_uri": "https://localhost:8080/",
          "height": 4225
        }
      },
      "cell_type": "code",
      "source": [
        "from keras import optimizers\n",
        "adam = optimizers.Adam(lr = 0.001)\n",
        "def get_lr_metric(optimizer):\n",
        "    def lr(y_true, y_pred):\n",
        "        return optimizer.lr\n",
        "    return lr\n",
        "\n",
        "\n",
        "lr_metric = get_lr_metric(adam)\n",
        "\n",
        "model.compile(loss='categorical_crossentropy',\n",
        "             optimizer=adam,\n",
        "             metrics=['accuracy', lr_metric])\n",
        "model.summary()"
      ],
      "execution_count": 0,
      "outputs": [
        {
          "output_type": "stream",
          "text": [
            "__________________________________________________________________________________________________\n",
            "Layer (type)                    Output Shape         Param #     Connected to                     \n",
            "==================================================================================================\n",
            "input_1 (InputLayer)            (None, 32, 32, 3)    0                                            \n",
            "__________________________________________________________________________________________________\n",
            "conv2d_1 (Conv2D)               (None, 32, 32, 32)   4736        input_1[0][0]                    \n",
            "__________________________________________________________________________________________________\n",
            "conv2d_2 (Conv2D)               (None, 32, 32, 32)   9248        conv2d_1[0][0]                   \n",
            "__________________________________________________________________________________________________\n",
            "batch_normalization_1 (BatchNor (None, 32, 32, 32)   128         conv2d_2[0][0]                   \n",
            "__________________________________________________________________________________________________\n",
            "activation_1 (Activation)       (None, 32, 32, 32)   0           batch_normalization_1[0][0]      \n",
            "__________________________________________________________________________________________________\n",
            "conv2d_3 (Conv2D)               (None, 32, 32, 32)   9248        activation_1[0][0]               \n",
            "__________________________________________________________________________________________________\n",
            "add_1 (Add)                     (None, 32, 32, 32)   0           conv2d_1[0][0]                   \n",
            "                                                                 conv2d_3[0][0]                   \n",
            "__________________________________________________________________________________________________\n",
            "dropout_1 (Dropout)             (None, 32, 32, 32)   0           add_1[0][0]                      \n",
            "__________________________________________________________________________________________________\n",
            "conv2d_4 (Conv2D)               (None, 32, 32, 64)   18496       dropout_1[0][0]                  \n",
            "__________________________________________________________________________________________________\n",
            "batch_normalization_2 (BatchNor (None, 32, 32, 64)   256         conv2d_4[0][0]                   \n",
            "__________________________________________________________________________________________________\n",
            "activation_2 (Activation)       (None, 32, 32, 64)   0           batch_normalization_2[0][0]      \n",
            "__________________________________________________________________________________________________\n",
            "conv2d_6 (Conv2D)               (None, 32, 32, 64)   2112        dropout_1[0][0]                  \n",
            "__________________________________________________________________________________________________\n",
            "conv2d_5 (Conv2D)               (None, 32, 32, 64)   36928       activation_2[0][0]               \n",
            "__________________________________________________________________________________________________\n",
            "add_2 (Add)                     (None, 32, 32, 64)   0           conv2d_6[0][0]                   \n",
            "                                                                 conv2d_5[0][0]                   \n",
            "__________________________________________________________________________________________________\n",
            "dropout_2 (Dropout)             (None, 32, 32, 64)   0           add_2[0][0]                      \n",
            "__________________________________________________________________________________________________\n",
            "batch_normalization_3 (BatchNor (None, 32, 32, 64)   256         dropout_2[0][0]                  \n",
            "__________________________________________________________________________________________________\n",
            "activation_3 (Activation)       (None, 32, 32, 64)   0           batch_normalization_3[0][0]      \n",
            "__________________________________________________________________________________________________\n",
            "conv2d_7 (Conv2D)               (None, 32, 32, 64)   4160        activation_3[0][0]               \n",
            "__________________________________________________________________________________________________\n",
            "batch_normalization_4 (BatchNor (None, 32, 32, 64)   256         conv2d_7[0][0]                   \n",
            "__________________________________________________________________________________________________\n",
            "activation_4 (Activation)       (None, 32, 32, 64)   0           batch_normalization_4[0][0]      \n",
            "__________________________________________________________________________________________________\n",
            "conv2d_8 (Conv2D)               (None, 32, 32, 64)   36928       activation_4[0][0]               \n",
            "__________________________________________________________________________________________________\n",
            "batch_normalization_5 (BatchNor (None, 32, 32, 64)   256         conv2d_8[0][0]                   \n",
            "__________________________________________________________________________________________________\n",
            "activation_5 (Activation)       (None, 32, 32, 64)   0           batch_normalization_5[0][0]      \n",
            "__________________________________________________________________________________________________\n",
            "conv2d_9 (Conv2D)               (None, 32, 32, 64)   36928       activation_5[0][0]               \n",
            "__________________________________________________________________________________________________\n",
            "add_3 (Add)                     (None, 32, 32, 64)   0           conv2d_7[0][0]                   \n",
            "                                                                 conv2d_9[0][0]                   \n",
            "__________________________________________________________________________________________________\n",
            "dropout_3 (Dropout)             (None, 32, 32, 64)   0           add_3[0][0]                      \n",
            "__________________________________________________________________________________________________\n",
            "batch_normalization_6 (BatchNor (None, 32, 32, 64)   256         dropout_3[0][0]                  \n",
            "__________________________________________________________________________________________________\n",
            "activation_6 (Activation)       (None, 32, 32, 64)   0           batch_normalization_6[0][0]      \n",
            "__________________________________________________________________________________________________\n",
            "conv2d_10 (Conv2D)              (None, 32, 32, 128)  73856       activation_6[0][0]               \n",
            "__________________________________________________________________________________________________\n",
            "batch_normalization_7 (BatchNor (None, 32, 32, 128)  512         conv2d_10[0][0]                  \n",
            "__________________________________________________________________________________________________\n",
            "activation_7 (Activation)       (None, 32, 32, 128)  0           batch_normalization_7[0][0]      \n",
            "__________________________________________________________________________________________________\n",
            "conv2d_12 (Conv2D)              (None, 32, 32, 128)  8320        dropout_3[0][0]                  \n",
            "__________________________________________________________________________________________________\n",
            "conv2d_11 (Conv2D)              (None, 32, 32, 128)  147584      activation_7[0][0]               \n",
            "__________________________________________________________________________________________________\n",
            "add_4 (Add)                     (None, 32, 32, 128)  0           conv2d_12[0][0]                  \n",
            "                                                                 conv2d_11[0][0]                  \n",
            "__________________________________________________________________________________________________\n",
            "dropout_4 (Dropout)             (None, 32, 32, 128)  0           add_4[0][0]                      \n",
            "__________________________________________________________________________________________________\n",
            "batch_normalization_8 (BatchNor (None, 32, 32, 128)  512         dropout_4[0][0]                  \n",
            "__________________________________________________________________________________________________\n",
            "activation_8 (Activation)       (None, 32, 32, 128)  0           batch_normalization_8[0][0]      \n",
            "__________________________________________________________________________________________________\n",
            "conv2d_13 (Conv2D)              (None, 32, 32, 256)  295168      activation_8[0][0]               \n",
            "__________________________________________________________________________________________________\n",
            "batch_normalization_9 (BatchNor (None, 32, 32, 256)  1024        conv2d_13[0][0]                  \n",
            "__________________________________________________________________________________________________\n",
            "activation_9 (Activation)       (None, 32, 32, 256)  0           batch_normalization_9[0][0]      \n",
            "__________________________________________________________________________________________________\n",
            "conv2d_15 (Conv2D)              (None, 32, 32, 256)  33024       dropout_4[0][0]                  \n",
            "__________________________________________________________________________________________________\n",
            "conv2d_14 (Conv2D)              (None, 32, 32, 256)  590080      activation_9[0][0]               \n",
            "__________________________________________________________________________________________________\n",
            "add_5 (Add)                     (None, 32, 32, 256)  0           conv2d_15[0][0]                  \n",
            "                                                                 conv2d_14[0][0]                  \n",
            "__________________________________________________________________________________________________\n",
            "dropout_5 (Dropout)             (None, 32, 32, 256)  0           add_5[0][0]                      \n",
            "__________________________________________________________________________________________________\n",
            "batch_normalization_10 (BatchNo (None, 32, 32, 256)  1024        dropout_5[0][0]                  \n",
            "__________________________________________________________________________________________________\n",
            "activation_10 (Activation)      (None, 32, 32, 256)  0           batch_normalization_10[0][0]     \n",
            "__________________________________________________________________________________________________\n",
            "conv2d_16 (Conv2D)              (None, 32, 32, 128)  32896       activation_10[0][0]              \n",
            "__________________________________________________________________________________________________\n",
            "max_pooling2d_1 (MaxPooling2D)  (None, 16, 16, 128)  0           conv2d_16[0][0]                  \n",
            "__________________________________________________________________________________________________\n",
            "batch_normalization_11 (BatchNo (None, 16, 16, 128)  512         max_pooling2d_1[0][0]            \n",
            "__________________________________________________________________________________________________\n",
            "activation_11 (Activation)      (None, 16, 16, 128)  0           batch_normalization_11[0][0]     \n",
            "__________________________________________________________________________________________________\n",
            "conv2d_17 (Conv2D)              (None, 16, 16, 128)  147584      activation_11[0][0]              \n",
            "__________________________________________________________________________________________________\n",
            "batch_normalization_12 (BatchNo (None, 16, 16, 128)  512         conv2d_17[0][0]                  \n",
            "__________________________________________________________________________________________________\n",
            "activation_12 (Activation)      (None, 16, 16, 128)  0           batch_normalization_12[0][0]     \n",
            "__________________________________________________________________________________________________\n",
            "conv2d_18 (Conv2D)              (None, 16, 16, 128)  147584      activation_12[0][0]              \n",
            "__________________________________________________________________________________________________\n",
            "add_6 (Add)                     (None, 16, 16, 128)  0           max_pooling2d_1[0][0]            \n",
            "                                                                 conv2d_18[0][0]                  \n",
            "__________________________________________________________________________________________________\n",
            "dropout_6 (Dropout)             (None, 16, 16, 128)  0           add_6[0][0]                      \n",
            "__________________________________________________________________________________________________\n",
            "batch_normalization_13 (BatchNo (None, 16, 16, 128)  512         dropout_6[0][0]                  \n",
            "__________________________________________________________________________________________________\n",
            "activation_13 (Activation)      (None, 16, 16, 128)  0           batch_normalization_13[0][0]     \n",
            "__________________________________________________________________________________________________\n",
            "conv2d_19 (Conv2D)              (None, 16, 16, 256)  295168      activation_13[0][0]              \n",
            "__________________________________________________________________________________________________\n",
            "batch_normalization_14 (BatchNo (None, 16, 16, 256)  1024        conv2d_19[0][0]                  \n",
            "__________________________________________________________________________________________________\n",
            "activation_14 (Activation)      (None, 16, 16, 256)  0           batch_normalization_14[0][0]     \n",
            "__________________________________________________________________________________________________\n",
            "conv2d_21 (Conv2D)              (None, 16, 16, 256)  33024       dropout_6[0][0]                  \n",
            "__________________________________________________________________________________________________\n",
            "conv2d_20 (Conv2D)              (None, 16, 16, 256)  590080      activation_14[0][0]              \n",
            "__________________________________________________________________________________________________\n",
            "add_7 (Add)                     (None, 16, 16, 256)  0           conv2d_21[0][0]                  \n",
            "                                                                 conv2d_20[0][0]                  \n",
            "__________________________________________________________________________________________________\n",
            "dropout_7 (Dropout)             (None, 16, 16, 256)  0           add_7[0][0]                      \n",
            "__________________________________________________________________________________________________\n",
            "batch_normalization_15 (BatchNo (None, 16, 16, 256)  1024        dropout_7[0][0]                  \n",
            "__________________________________________________________________________________________________\n",
            "activation_15 (Activation)      (None, 16, 16, 256)  0           batch_normalization_15[0][0]     \n",
            "__________________________________________________________________________________________________\n",
            "conv2d_22 (Conv2D)              (None, 16, 16, 512)  1180160     activation_15[0][0]              \n",
            "__________________________________________________________________________________________________\n",
            "batch_normalization_16 (BatchNo (None, 16, 16, 512)  2048        conv2d_22[0][0]                  \n",
            "__________________________________________________________________________________________________\n",
            "activation_16 (Activation)      (None, 16, 16, 512)  0           batch_normalization_16[0][0]     \n",
            "__________________________________________________________________________________________________\n",
            "conv2d_24 (Conv2D)              (None, 16, 16, 512)  131584      dropout_7[0][0]                  \n",
            "__________________________________________________________________________________________________\n",
            "conv2d_23 (Conv2D)              (None, 16, 16, 512)  2359808     activation_16[0][0]              \n",
            "__________________________________________________________________________________________________\n",
            "add_8 (Add)                     (None, 16, 16, 512)  0           conv2d_24[0][0]                  \n",
            "                                                                 conv2d_23[0][0]                  \n",
            "__________________________________________________________________________________________________\n",
            "dropout_8 (Dropout)             (None, 16, 16, 512)  0           add_8[0][0]                      \n",
            "__________________________________________________________________________________________________\n",
            "batch_normalization_17 (BatchNo (None, 16, 16, 512)  2048        dropout_8[0][0]                  \n",
            "__________________________________________________________________________________________________\n",
            "activation_17 (Activation)      (None, 16, 16, 512)  0           batch_normalization_17[0][0]     \n",
            "__________________________________________________________________________________________________\n",
            "conv2d_25 (Conv2D)              (None, 16, 16, 256)  131328      activation_17[0][0]              \n",
            "__________________________________________________________________________________________________\n",
            "max_pooling2d_2 (MaxPooling2D)  (None, 8, 8, 256)    0           conv2d_25[0][0]                  \n",
            "__________________________________________________________________________________________________\n",
            "batch_normalization_18 (BatchNo (None, 8, 8, 256)    1024        max_pooling2d_2[0][0]            \n",
            "__________________________________________________________________________________________________\n",
            "activation_18 (Activation)      (None, 8, 8, 256)    0           batch_normalization_18[0][0]     \n",
            "__________________________________________________________________________________________________\n",
            "conv2d_26 (Conv2D)              (None, 8, 8, 256)    590080      activation_18[0][0]              \n",
            "__________________________________________________________________________________________________\n",
            "batch_normalization_19 (BatchNo (None, 8, 8, 256)    1024        conv2d_26[0][0]                  \n",
            "__________________________________________________________________________________________________\n",
            "activation_19 (Activation)      (None, 8, 8, 256)    0           batch_normalization_19[0][0]     \n",
            "__________________________________________________________________________________________________\n",
            "conv2d_27 (Conv2D)              (None, 8, 8, 256)    590080      activation_19[0][0]              \n",
            "__________________________________________________________________________________________________\n",
            "add_9 (Add)                     (None, 8, 8, 256)    0           max_pooling2d_2[0][0]            \n",
            "                                                                 conv2d_27[0][0]                  \n",
            "__________________________________________________________________________________________________\n",
            "dropout_9 (Dropout)             (None, 8, 8, 256)    0           add_9[0][0]                      \n",
            "__________________________________________________________________________________________________\n",
            "batch_normalization_20 (BatchNo (None, 8, 8, 256)    1024        dropout_9[0][0]                  \n",
            "__________________________________________________________________________________________________\n",
            "activation_20 (Activation)      (None, 8, 8, 256)    0           batch_normalization_20[0][0]     \n",
            "__________________________________________________________________________________________________\n",
            "conv2d_28 (Conv2D)              (None, 8, 8, 512)    1180160     activation_20[0][0]              \n",
            "__________________________________________________________________________________________________\n",
            "batch_normalization_21 (BatchNo (None, 8, 8, 512)    2048        conv2d_28[0][0]                  \n",
            "__________________________________________________________________________________________________\n",
            "activation_21 (Activation)      (None, 8, 8, 512)    0           batch_normalization_21[0][0]     \n",
            "__________________________________________________________________________________________________\n",
            "conv2d_30 (Conv2D)              (None, 8, 8, 512)    131584      dropout_9[0][0]                  \n",
            "__________________________________________________________________________________________________\n",
            "conv2d_29 (Conv2D)              (None, 8, 8, 512)    2359808     activation_21[0][0]              \n",
            "__________________________________________________________________________________________________\n",
            "add_10 (Add)                    (None, 8, 8, 512)    0           conv2d_30[0][0]                  \n",
            "                                                                 conv2d_29[0][0]                  \n",
            "__________________________________________________________________________________________________\n",
            "dropout_10 (Dropout)            (None, 8, 8, 512)    0           add_10[0][0]                     \n",
            "__________________________________________________________________________________________________\n",
            "batch_normalization_22 (BatchNo (None, 8, 8, 512)    2048        dropout_10[0][0]                 \n",
            "__________________________________________________________________________________________________\n",
            "activation_22 (Activation)      (None, 8, 8, 512)    0           batch_normalization_22[0][0]     \n",
            "__________________________________________________________________________________________________\n",
            "conv2d_31 (Conv2D)              (None, 8, 8, 512)    262656      activation_22[0][0]              \n",
            "__________________________________________________________________________________________________\n",
            "max_pooling2d_3 (MaxPooling2D)  (None, 4, 4, 512)    0           conv2d_31[0][0]                  \n",
            "__________________________________________________________________________________________________\n",
            "batch_normalization_23 (BatchNo (None, 4, 4, 512)    2048        max_pooling2d_3[0][0]            \n",
            "__________________________________________________________________________________________________\n",
            "activation_23 (Activation)      (None, 4, 4, 512)    0           batch_normalization_23[0][0]     \n",
            "__________________________________________________________________________________________________\n",
            "average_pooling2d_1 (AveragePoo (None, 1, 1, 512)    0           activation_23[0][0]              \n",
            "__________________________________________________________________________________________________\n",
            "flatten_1 (Flatten)             (None, 512)          0           average_pooling2d_1[0][0]        \n",
            "__________________________________________________________________________________________________\n",
            "dense_1 (Dense)                 (None, 10)           5130        flatten_1[0][0]                  \n",
            "==================================================================================================\n",
            "Total params: 11,496,906\n",
            "Trainable params: 11,486,218\n",
            "Non-trainable params: 10,688\n",
            "__________________________________________________________________________________________________\n"
          ],
          "name": "stdout"
        }
      ]
    },
    {
      "metadata": {
        "id": "E_Ca3W5tF1KB",
        "colab_type": "code",
        "outputId": "f3699786-34e5-4bcc-f05a-6f5b61758874",
        "colab": {
          "base_uri": "https://localhost:8080/",
          "height": 7150
        }
      },
      "cell_type": "code",
      "source": [
        "from keras.callbacks import *\n",
        "\n",
        "filepath=\"/content/gdrive/My Drive/Colab Notebooks/epochs_dropout:{epoch:03d}-val_acc:{val_acc:.3f}.hdf5\"\n",
        "checkpoint = ModelCheckpoint(filepath, monitor='val_acc', verbose=1, save_best_only=True, mode='max')\n",
        "reduce_lr = ReduceLROnPlateau(monitor='val_loss', factor=0.1,\n",
        "                              patience=5, min_lr=0.001)\n",
        "\n",
        "       \n",
        "callbacks_list = [checkpoint, reduce_lr]\n",
        "\n",
        "\n",
        "TRAIN_STEP_SIZE = train_generator.n//train_generator.batch_size\n",
        "VAL_STEP_SIZE = validation_generator.n//validation_generator.batch_size\n",
        "model.fit_generator(train_generator, \n",
        "                    #initial_epoch = 53,\n",
        "                    epochs=100,\n",
        "                    steps_per_epoch = TRAIN_STEP_SIZE,\n",
        "                    validation_steps=VAL_STEP_SIZE,\n",
        "                    validation_data=validation_generator,\n",
        "                    callbacks = callbacks_list)"
      ],
      "execution_count": 0,
      "outputs": [
        {
          "output_type": "stream",
          "text": [
            "WARNING:tensorflow:From /usr/local/lib/python3.6/dist-packages/tensorflow/python/ops/math_ops.py:3066: to_int32 (from tensorflow.python.ops.math_ops) is deprecated and will be removed in a future version.\n",
            "Instructions for updating:\n",
            "Use tf.cast instead.\n",
            "Epoch 1/100\n",
            "25/25 [==============================] - 58s 2s/step - loss: 3.7337 - acc: 0.1392 - lr: 0.0010 - val_loss: 3.7866 - val_acc: 0.1000 - val_lr: 0.0010\n",
            "\n",
            "Epoch 00001: val_acc improved from -inf to 0.10000, saving model to /content/gdrive/My Drive/Colab Notebooks/epochs_dropout:001-val_acc:0.100.hdf5\n",
            "Epoch 2/100\n",
            "25/25 [==============================] - 35s 1s/step - loss: 3.5937 - acc: 0.1848 - lr: 0.0010 - val_loss: 4.4409 - val_acc: 0.1000 - val_lr: 0.0010\n",
            "\n",
            "Epoch 00002: val_acc improved from 0.10000 to 0.10000, saving model to /content/gdrive/My Drive/Colab Notebooks/epochs_dropout:002-val_acc:0.100.hdf5\n",
            "Epoch 3/100\n",
            "25/25 [==============================] - 35s 1s/step - loss: 3.4279 - acc: 0.2180 - lr: 0.0010 - val_loss: 4.7527 - val_acc: 0.1000 - val_lr: 0.0010\n",
            "\n",
            "Epoch 00003: val_acc did not improve from 0.10000\n",
            "Epoch 4/100\n",
            "25/25 [==============================] - 35s 1s/step - loss: 3.2519 - acc: 0.2550 - lr: 0.0010 - val_loss: 4.7990 - val_acc: 0.1000 - val_lr: 0.0010\n",
            "\n",
            "Epoch 00004: val_acc improved from 0.10000 to 0.10000, saving model to /content/gdrive/My Drive/Colab Notebooks/epochs_dropout:004-val_acc:0.100.hdf5\n",
            "Epoch 5/100\n",
            "25/25 [==============================] - 35s 1s/step - loss: 3.0930 - acc: 0.2932 - lr: 0.0010 - val_loss: 4.6864 - val_acc: 0.1000 - val_lr: 0.0010\n",
            "\n",
            "Epoch 00005: val_acc did not improve from 0.10000\n",
            "Epoch 6/100\n",
            "25/25 [==============================] - 35s 1s/step - loss: 2.9428 - acc: 0.3318 - lr: 0.0010 - val_loss: 6.0780 - val_acc: 0.1000 - val_lr: 0.0010\n",
            "\n",
            "Epoch 00006: val_acc did not improve from 0.10000\n",
            "Epoch 7/100\n",
            "25/25 [==============================] - 35s 1s/step - loss: 2.8372 - acc: 0.3600 - lr: 0.0010 - val_loss: 6.6282 - val_acc: 0.1000 - val_lr: 0.0010\n",
            "\n",
            "Epoch 00007: val_acc did not improve from 0.10000\n",
            "Epoch 8/100\n",
            "25/25 [==============================] - 35s 1s/step - loss: 2.7592 - acc: 0.3672 - lr: 0.0010 - val_loss: 5.0027 - val_acc: 0.1000 - val_lr: 0.0010\n",
            "\n",
            "Epoch 00008: val_acc did not improve from 0.10000\n",
            "Epoch 9/100\n",
            "25/25 [==============================] - 35s 1s/step - loss: 2.6590 - acc: 0.3852 - lr: 0.0010 - val_loss: 6.1978 - val_acc: 0.1000 - val_lr: 0.0010\n",
            "\n",
            "Epoch 00009: val_acc did not improve from 0.10000\n",
            "Epoch 10/100\n",
            "25/25 [==============================] - 35s 1s/step - loss: 2.5727 - acc: 0.4054 - lr: 0.0010 - val_loss: 5.1300 - val_acc: 0.1000 - val_lr: 0.0010\n",
            "\n",
            "Epoch 00010: val_acc did not improve from 0.10000\n",
            "Epoch 11/100\n",
            "25/25 [==============================] - 35s 1s/step - loss: 2.5059 - acc: 0.4176 - lr: 0.0010 - val_loss: 7.2998 - val_acc: 0.1000 - val_lr: 0.0010\n",
            "\n",
            "Epoch 00011: val_acc did not improve from 0.10000\n",
            "Epoch 12/100\n",
            "25/25 [==============================] - 35s 1s/step - loss: 2.4198 - acc: 0.4478 - lr: 0.0010 - val_loss: 6.9537 - val_acc: 0.1000 - val_lr: 0.0010\n",
            "\n",
            "Epoch 00012: val_acc did not improve from 0.10000\n",
            "Epoch 13/100\n",
            "25/25 [==============================] - 35s 1s/step - loss: 2.3507 - acc: 0.4574 - lr: 0.0010 - val_loss: 8.2387 - val_acc: 0.1000 - val_lr: 0.0010\n",
            "\n",
            "Epoch 00013: val_acc did not improve from 0.10000\n",
            "Epoch 14/100\n",
            "25/25 [==============================] - 35s 1s/step - loss: 2.2739 - acc: 0.4694 - lr: 0.0010 - val_loss: 7.1172 - val_acc: 0.1000 - val_lr: 0.0010\n",
            "\n",
            "Epoch 00014: val_acc did not improve from 0.10000\n",
            "Epoch 15/100\n",
            "25/25 [==============================] - 35s 1s/step - loss: 2.2276 - acc: 0.4788 - lr: 0.0010 - val_loss: 7.2447 - val_acc: 0.1000 - val_lr: 0.0010\n",
            "\n",
            "Epoch 00015: val_acc did not improve from 0.10000\n",
            "Epoch 16/100\n",
            "25/25 [==============================] - 35s 1s/step - loss: 2.1523 - acc: 0.5090 - lr: 0.0010 - val_loss: 8.0424 - val_acc: 0.1000 - val_lr: 0.0010\n",
            "\n",
            "Epoch 00016: val_acc did not improve from 0.10000\n",
            "Epoch 17/100\n",
            "25/25 [==============================] - 35s 1s/step - loss: 2.0979 - acc: 0.5224 - lr: 0.0010 - val_loss: 6.4103 - val_acc: 0.1000 - val_lr: 0.0010\n",
            "\n",
            "Epoch 00017: val_acc improved from 0.10000 to 0.10000, saving model to /content/gdrive/My Drive/Colab Notebooks/epochs_dropout:017-val_acc:0.100.hdf5\n",
            "Epoch 18/100\n",
            "25/25 [==============================] - 35s 1s/step - loss: 2.0539 - acc: 0.5322 - lr: 0.0010 - val_loss: 6.5751 - val_acc: 0.1000 - val_lr: 0.0010\n",
            "\n",
            "Epoch 00018: val_acc did not improve from 0.10000\n",
            "Epoch 19/100\n",
            "25/25 [==============================] - 35s 1s/step - loss: 2.0142 - acc: 0.5476 - lr: 0.0010 - val_loss: 6.6137 - val_acc: 0.1000 - val_lr: 0.0010\n",
            "\n",
            "Epoch 00019: val_acc did not improve from 0.10000\n",
            "Epoch 20/100\n",
            "25/25 [==============================] - 35s 1s/step - loss: 1.9716 - acc: 0.5508 - lr: 0.0010 - val_loss: 6.6800 - val_acc: 0.1020 - val_lr: 0.0010\n",
            "\n",
            "Epoch 00020: val_acc improved from 0.10000 to 0.10200, saving model to /content/gdrive/My Drive/Colab Notebooks/epochs_dropout:020-val_acc:0.102.hdf5\n",
            "Epoch 21/100\n",
            "25/25 [==============================] - 35s 1s/step - loss: 1.9297 - acc: 0.5620 - lr: 0.0010 - val_loss: 6.8114 - val_acc: 0.1000 - val_lr: 0.0010\n",
            "\n",
            "Epoch 00021: val_acc did not improve from 0.10200\n",
            "Epoch 22/100\n",
            "25/25 [==============================] - 35s 1s/step - loss: 1.8762 - acc: 0.5748 - lr: 0.0010 - val_loss: 5.7259 - val_acc: 0.1200 - val_lr: 0.0010\n",
            "\n",
            "Epoch 00022: val_acc improved from 0.10200 to 0.12000, saving model to /content/gdrive/My Drive/Colab Notebooks/epochs_dropout:022-val_acc:0.120.hdf5\n",
            "Epoch 23/100\n",
            "25/25 [==============================] - 35s 1s/step - loss: 1.8040 - acc: 0.6000 - lr: 0.0010 - val_loss: 5.2690 - val_acc: 0.1380 - val_lr: 0.0010\n",
            "\n",
            "Epoch 00023: val_acc improved from 0.12000 to 0.13800, saving model to /content/gdrive/My Drive/Colab Notebooks/epochs_dropout:023-val_acc:0.138.hdf5\n",
            "Epoch 24/100\n",
            "25/25 [==============================] - 35s 1s/step - loss: 1.7706 - acc: 0.6052 - lr: 0.0010 - val_loss: 5.6593 - val_acc: 0.1240 - val_lr: 0.0010\n",
            "\n",
            "Epoch 00024: val_acc did not improve from 0.13800\n",
            "Epoch 25/100\n",
            "25/25 [==============================] - 35s 1s/step - loss: 1.7565 - acc: 0.6038 - lr: 0.0010 - val_loss: 5.5476 - val_acc: 0.1520 - val_lr: 0.0010\n",
            "\n",
            "Epoch 00025: val_acc improved from 0.13800 to 0.15200, saving model to /content/gdrive/My Drive/Colab Notebooks/epochs_dropout:025-val_acc:0.152.hdf5\n",
            "Epoch 26/100\n",
            "25/25 [==============================] - 35s 1s/step - loss: 1.7376 - acc: 0.6084 - lr: 0.0010 - val_loss: 5.4617 - val_acc: 0.1220 - val_lr: 0.0010\n",
            "\n",
            "Epoch 00026: val_acc did not improve from 0.15200\n",
            "Epoch 27/100\n",
            "25/25 [==============================] - 35s 1s/step - loss: 1.6957 - acc: 0.6232 - lr: 0.0010 - val_loss: 6.0271 - val_acc: 0.1160 - val_lr: 0.0010\n",
            "\n",
            "Epoch 00027: val_acc did not improve from 0.15200\n",
            "Epoch 28/100\n",
            "25/25 [==============================] - 35s 1s/step - loss: 1.6328 - acc: 0.6444 - lr: 0.0010 - val_loss: 4.9704 - val_acc: 0.1500 - val_lr: 0.0010\n",
            "\n",
            "Epoch 00028: val_acc did not improve from 0.15200\n",
            "Epoch 29/100\n",
            "25/25 [==============================] - 35s 1s/step - loss: 1.6210 - acc: 0.6380 - lr: 0.0010 - val_loss: 5.5697 - val_acc: 0.1380 - val_lr: 0.0010\n",
            "\n",
            "Epoch 00029: val_acc did not improve from 0.15200\n",
            "Epoch 30/100\n",
            "25/25 [==============================] - 35s 1s/step - loss: 1.6068 - acc: 0.6518 - lr: 0.0010 - val_loss: 5.4991 - val_acc: 0.1660 - val_lr: 0.0010\n",
            "\n",
            "Epoch 00030: val_acc improved from 0.15200 to 0.16600, saving model to /content/gdrive/My Drive/Colab Notebooks/epochs_dropout:030-val_acc:0.166.hdf5\n",
            "Epoch 31/100\n",
            "25/25 [==============================] - 35s 1s/step - loss: 1.5538 - acc: 0.6654 - lr: 0.0010 - val_loss: 5.3639 - val_acc: 0.1580 - val_lr: 0.0010\n",
            "\n",
            "Epoch 00031: val_acc did not improve from 0.16600\n",
            "Epoch 32/100\n",
            "25/25 [==============================] - 35s 1s/step - loss: 1.5122 - acc: 0.6754 - lr: 0.0010 - val_loss: 4.9313 - val_acc: 0.1760 - val_lr: 0.0010\n",
            "\n",
            "Epoch 00032: val_acc improved from 0.16600 to 0.17600, saving model to /content/gdrive/My Drive/Colab Notebooks/epochs_dropout:032-val_acc:0.176.hdf5\n",
            "Epoch 33/100\n",
            "25/25 [==============================] - 35s 1s/step - loss: 1.4997 - acc: 0.6754 - lr: 0.0010 - val_loss: 5.0181 - val_acc: 0.1620 - val_lr: 0.0010\n",
            "\n",
            "Epoch 00033: val_acc did not improve from 0.17600\n",
            "Epoch 34/100\n",
            "25/25 [==============================] - 35s 1s/step - loss: 1.5013 - acc: 0.6800 - lr: 0.0010 - val_loss: 4.9888 - val_acc: 0.2200 - val_lr: 0.0010\n",
            "\n",
            "Epoch 00034: val_acc improved from 0.17600 to 0.22000, saving model to /content/gdrive/My Drive/Colab Notebooks/epochs_dropout:034-val_acc:0.220.hdf5\n",
            "Epoch 35/100\n",
            "25/25 [==============================] - 35s 1s/step - loss: 1.4724 - acc: 0.6904 - lr: 0.0010 - val_loss: 4.4004 - val_acc: 0.1660 - val_lr: 0.0010\n",
            "\n",
            "Epoch 00035: val_acc did not improve from 0.22000\n",
            "Epoch 36/100\n",
            "25/25 [==============================] - 35s 1s/step - loss: 1.4570 - acc: 0.6890 - lr: 0.0010 - val_loss: 4.7962 - val_acc: 0.2680 - val_lr: 0.0010\n",
            "\n",
            "Epoch 00036: val_acc improved from 0.22000 to 0.26800, saving model to /content/gdrive/My Drive/Colab Notebooks/epochs_dropout:036-val_acc:0.268.hdf5\n",
            "Epoch 37/100\n",
            "25/25 [==============================] - 35s 1s/step - loss: 1.4321 - acc: 0.6934 - lr: 0.0010 - val_loss: 7.1905 - val_acc: 0.1140 - val_lr: 0.0010\n",
            "\n",
            "Epoch 00037: val_acc did not improve from 0.26800\n",
            "Epoch 38/100\n",
            "25/25 [==============================] - 35s 1s/step - loss: 1.3762 - acc: 0.7100 - lr: 0.0010 - val_loss: 5.2719 - val_acc: 0.1400 - val_lr: 0.0010\n",
            "\n",
            "Epoch 00038: val_acc did not improve from 0.26800\n",
            "Epoch 39/100\n",
            "25/25 [==============================] - 35s 1s/step - loss: 1.3367 - acc: 0.7254 - lr: 0.0010 - val_loss: 6.3739 - val_acc: 0.1400 - val_lr: 0.0010\n",
            "\n",
            "Epoch 00039: val_acc did not improve from 0.26800\n",
            "Epoch 40/100\n",
            "25/25 [==============================] - 35s 1s/step - loss: 1.3227 - acc: 0.7296 - lr: 0.0010 - val_loss: 5.6802 - val_acc: 0.2180 - val_lr: 0.0010\n",
            "\n",
            "Epoch 00040: val_acc did not improve from 0.26800\n",
            "Epoch 41/100\n",
            "25/25 [==============================] - 35s 1s/step - loss: 1.2950 - acc: 0.7406 - lr: 0.0010 - val_loss: 5.8220 - val_acc: 0.2300 - val_lr: 0.0010\n",
            "\n",
            "Epoch 00041: val_acc did not improve from 0.26800\n",
            "Epoch 42/100\n",
            "25/25 [==============================] - 35s 1s/step - loss: 1.2996 - acc: 0.7388 - lr: 0.0010 - val_loss: 5.9597 - val_acc: 0.2000 - val_lr: 0.0010\n",
            "\n",
            "Epoch 00042: val_acc did not improve from 0.26800\n",
            "Epoch 43/100\n",
            "25/25 [==============================] - 35s 1s/step - loss: 1.2570 - acc: 0.7536 - lr: 0.0010 - val_loss: 5.4494 - val_acc: 0.2080 - val_lr: 0.0010\n",
            "\n",
            "Epoch 00043: val_acc did not improve from 0.26800\n",
            "Epoch 44/100\n",
            "25/25 [==============================] - 35s 1s/step - loss: 1.2177 - acc: 0.7682 - lr: 0.0010 - val_loss: 6.5077 - val_acc: 0.1700 - val_lr: 0.0010\n",
            "\n",
            "Epoch 00044: val_acc did not improve from 0.26800\n",
            "Epoch 45/100\n",
            "25/25 [==============================] - 35s 1s/step - loss: 1.2294 - acc: 0.7638 - lr: 0.0010 - val_loss: 5.6399 - val_acc: 0.1920 - val_lr: 0.0010\n",
            "\n",
            "Epoch 00045: val_acc did not improve from 0.26800\n",
            "Epoch 46/100\n",
            "25/25 [==============================] - 35s 1s/step - loss: 1.2393 - acc: 0.7522 - lr: 0.0010 - val_loss: 7.5110 - val_acc: 0.1480 - val_lr: 0.0010\n",
            "\n",
            "Epoch 00046: val_acc did not improve from 0.26800\n",
            "Epoch 47/100\n",
            "25/25 [==============================] - 35s 1s/step - loss: 1.1877 - acc: 0.7758 - lr: 0.0010 - val_loss: 5.2365 - val_acc: 0.2860 - val_lr: 0.0010\n",
            "\n",
            "Epoch 00047: val_acc improved from 0.26800 to 0.28600, saving model to /content/gdrive/My Drive/Colab Notebooks/epochs_dropout:047-val_acc:0.286.hdf5\n",
            "Epoch 48/100\n",
            "25/25 [==============================] - 35s 1s/step - loss: 1.1646 - acc: 0.7864 - lr: 0.0010 - val_loss: 6.1614 - val_acc: 0.3100 - val_lr: 0.0010\n",
            "\n",
            "Epoch 00048: val_acc improved from 0.28600 to 0.31000, saving model to /content/gdrive/My Drive/Colab Notebooks/epochs_dropout:048-val_acc:0.310.hdf5\n",
            "Epoch 49/100\n",
            "25/25 [==============================] - 35s 1s/step - loss: 1.1349 - acc: 0.7990 - lr: 0.0010 - val_loss: 6.4224 - val_acc: 0.2360 - val_lr: 0.0010\n",
            "\n",
            "Epoch 00049: val_acc did not improve from 0.31000\n",
            "Epoch 50/100\n",
            "25/25 [==============================] - 35s 1s/step - loss: 1.1107 - acc: 0.8078 - lr: 0.0010 - val_loss: 7.8863 - val_acc: 0.1660 - val_lr: 0.0010\n",
            "\n",
            "Epoch 00050: val_acc did not improve from 0.31000\n",
            "Epoch 51/100\n",
            "25/25 [==============================] - 35s 1s/step - loss: 1.0888 - acc: 0.8098 - lr: 0.0010 - val_loss: 5.6303 - val_acc: 0.2560 - val_lr: 0.0010\n",
            "\n",
            "Epoch 00051: val_acc did not improve from 0.31000\n",
            "Epoch 52/100\n",
            "25/25 [==============================] - 35s 1s/step - loss: 1.0641 - acc: 0.8202 - lr: 0.0010 - val_loss: 6.2168 - val_acc: 0.2720 - val_lr: 0.0010\n",
            "\n",
            "Epoch 00052: val_acc did not improve from 0.31000\n",
            "Epoch 53/100\n",
            "25/25 [==============================] - 35s 1s/step - loss: 1.0900 - acc: 0.8060 - lr: 0.0010 - val_loss: 8.1828 - val_acc: 0.1860 - val_lr: 0.0010\n",
            "\n",
            "Epoch 00053: val_acc did not improve from 0.31000\n",
            "Epoch 54/100\n",
            "25/25 [==============================] - 35s 1s/step - loss: 1.0222 - acc: 0.8344 - lr: 0.0010 - val_loss: 5.4829 - val_acc: 0.2700 - val_lr: 0.0010\n",
            "\n",
            "Epoch 00054: val_acc did not improve from 0.31000\n",
            "Epoch 55/100\n",
            "25/25 [==============================] - 35s 1s/step - loss: 1.0241 - acc: 0.8290 - lr: 0.0010 - val_loss: 7.3366 - val_acc: 0.2600 - val_lr: 0.0010\n",
            "\n",
            "Epoch 00055: val_acc did not improve from 0.31000\n",
            "Epoch 56/100\n",
            "25/25 [==============================] - 35s 1s/step - loss: 1.0089 - acc: 0.8392 - lr: 0.0010 - val_loss: 6.3347 - val_acc: 0.2560 - val_lr: 0.0010\n",
            "\n",
            "Epoch 00056: val_acc did not improve from 0.31000\n",
            "Epoch 57/100\n",
            "25/25 [==============================] - 35s 1s/step - loss: 0.9697 - acc: 0.8492 - lr: 0.0010 - val_loss: 7.3030 - val_acc: 0.2560 - val_lr: 0.0010\n",
            "\n",
            "Epoch 00057: val_acc did not improve from 0.31000\n",
            "Epoch 58/100\n",
            "25/25 [==============================] - 36s 1s/step - loss: 0.9667 - acc: 0.8520 - lr: 0.0010 - val_loss: 7.1271 - val_acc: 0.2440 - val_lr: 0.0010\n",
            "\n",
            "Epoch 00058: val_acc did not improve from 0.31000\n",
            "Epoch 59/100\n",
            "25/25 [==============================] - 36s 1s/step - loss: 0.9908 - acc: 0.8430 - lr: 0.0010 - val_loss: 6.6465 - val_acc: 0.2500 - val_lr: 0.0010\n",
            "\n",
            "Epoch 00059: val_acc did not improve from 0.31000\n",
            "Epoch 60/100\n",
            "25/25 [==============================] - 36s 1s/step - loss: 0.9662 - acc: 0.8544 - lr: 0.0010 - val_loss: 7.4795 - val_acc: 0.3140 - val_lr: 0.0010\n",
            "\n",
            "Epoch 00060: val_acc improved from 0.31000 to 0.31400, saving model to /content/gdrive/My Drive/Colab Notebooks/epochs_dropout:060-val_acc:0.314.hdf5\n",
            "Epoch 61/100\n",
            "25/25 [==============================] - 36s 1s/step - loss: 0.8907 - acc: 0.8836 - lr: 0.0010 - val_loss: 8.8130 - val_acc: 0.2120 - val_lr: 0.0010\n",
            "\n",
            "Epoch 00061: val_acc did not improve from 0.31400\n",
            "Epoch 62/100\n",
            "25/25 [==============================] - 35s 1s/step - loss: 0.8711 - acc: 0.8886 - lr: 0.0010 - val_loss: 7.2484 - val_acc: 0.2280 - val_lr: 0.0010\n",
            "\n",
            "Epoch 00062: val_acc did not improve from 0.31400\n",
            "Epoch 63/100\n",
            "25/25 [==============================] - 35s 1s/step - loss: 0.8904 - acc: 0.8820 - lr: 0.0010 - val_loss: 6.5039 - val_acc: 0.2660 - val_lr: 0.0010\n",
            "\n",
            "Epoch 00063: val_acc did not improve from 0.31400\n",
            "Epoch 64/100\n",
            "25/25 [==============================] - 35s 1s/step - loss: 0.8879 - acc: 0.8798 - lr: 0.0010 - val_loss: 8.9089 - val_acc: 0.2480 - val_lr: 0.0010\n",
            "\n",
            "Epoch 00064: val_acc did not improve from 0.31400\n",
            "Epoch 65/100\n",
            "25/25 [==============================] - 35s 1s/step - loss: 0.8974 - acc: 0.8808 - lr: 0.0010 - val_loss: 7.4283 - val_acc: 0.2760 - val_lr: 0.0010\n",
            "\n",
            "Epoch 00065: val_acc did not improve from 0.31400\n",
            "Epoch 66/100\n",
            "25/25 [==============================] - 35s 1s/step - loss: 0.8547 - acc: 0.8934 - lr: 0.0010 - val_loss: 7.3349 - val_acc: 0.2960 - val_lr: 0.0010\n",
            "\n",
            "Epoch 00066: val_acc did not improve from 0.31400\n",
            "Epoch 67/100\n",
            "25/25 [==============================] - 35s 1s/step - loss: 0.8592 - acc: 0.8896 - lr: 0.0010 - val_loss: 6.6836 - val_acc: 0.3080 - val_lr: 0.0010\n",
            "\n",
            "Epoch 00067: val_acc did not improve from 0.31400\n",
            "Epoch 68/100\n",
            "25/25 [==============================] - 35s 1s/step - loss: 0.8395 - acc: 0.9028 - lr: 0.0010 - val_loss: 8.0755 - val_acc: 0.2420 - val_lr: 0.0010\n",
            "\n",
            "Epoch 00068: val_acc did not improve from 0.31400\n",
            "Epoch 69/100\n",
            "25/25 [==============================] - 35s 1s/step - loss: 0.8539 - acc: 0.8908 - lr: 0.0010 - val_loss: 8.8512 - val_acc: 0.2420 - val_lr: 0.0010\n",
            "\n",
            "Epoch 00069: val_acc did not improve from 0.31400\n",
            "Epoch 70/100\n",
            "25/25 [==============================] - 35s 1s/step - loss: 0.8231 - acc: 0.9088 - lr: 0.0010 - val_loss: 7.2665 - val_acc: 0.3000 - val_lr: 0.0010\n",
            "\n",
            "Epoch 00070: val_acc did not improve from 0.31400\n",
            "Epoch 71/100\n",
            "25/25 [==============================] - 35s 1s/step - loss: 0.8257 - acc: 0.8976 - lr: 0.0010 - val_loss: 8.7259 - val_acc: 0.2500 - val_lr: 0.0010\n",
            "\n",
            "Epoch 00071: val_acc did not improve from 0.31400\n",
            "Epoch 72/100\n",
            "25/25 [==============================] - 35s 1s/step - loss: 0.7985 - acc: 0.9178 - lr: 0.0010 - val_loss: 7.4634 - val_acc: 0.2940 - val_lr: 0.0010\n",
            "\n",
            "Epoch 00072: val_acc did not improve from 0.31400\n",
            "Epoch 73/100\n",
            "25/25 [==============================] - 35s 1s/step - loss: 0.8084 - acc: 0.9050 - lr: 0.0010 - val_loss: 9.8978 - val_acc: 0.2080 - val_lr: 0.0010\n",
            "\n",
            "Epoch 00073: val_acc did not improve from 0.31400\n",
            "Epoch 74/100\n",
            "25/25 [==============================] - 35s 1s/step - loss: 0.7611 - acc: 0.9264 - lr: 0.0010 - val_loss: 10.5155 - val_acc: 0.1920 - val_lr: 0.0010\n",
            "\n",
            "Epoch 00074: val_acc did not improve from 0.31400\n",
            "Epoch 75/100\n",
            "25/25 [==============================] - 35s 1s/step - loss: 0.7482 - acc: 0.9260 - lr: 0.0010 - val_loss: 8.0738 - val_acc: 0.2840 - val_lr: 0.0010\n",
            "\n",
            "Epoch 00075: val_acc did not improve from 0.31400\n",
            "Epoch 76/100\n",
            "25/25 [==============================] - 35s 1s/step - loss: 0.7900 - acc: 0.9082 - lr: 0.0010 - val_loss: 8.9919 - val_acc: 0.2420 - val_lr: 0.0010\n",
            "\n",
            "Epoch 00076: val_acc did not improve from 0.31400\n",
            "Epoch 77/100\n",
            "25/25 [==============================] - 35s 1s/step - loss: 0.7754 - acc: 0.9160 - lr: 0.0010 - val_loss: 8.3513 - val_acc: 0.2380 - val_lr: 0.0010\n",
            "\n",
            "Epoch 00077: val_acc did not improve from 0.31400\n",
            "Epoch 78/100\n",
            "25/25 [==============================] - 35s 1s/step - loss: 0.7481 - acc: 0.9262 - lr: 0.0010 - val_loss: 8.9614 - val_acc: 0.2520 - val_lr: 0.0010\n",
            "\n",
            "Epoch 00078: val_acc did not improve from 0.31400\n",
            "Epoch 79/100\n",
            "25/25 [==============================] - 35s 1s/step - loss: 0.7540 - acc: 0.9256 - lr: 0.0010 - val_loss: 7.7332 - val_acc: 0.3240 - val_lr: 0.0010\n",
            "\n",
            "Epoch 00079: val_acc improved from 0.31400 to 0.32400, saving model to /content/gdrive/My Drive/Colab Notebooks/epochs_dropout:079-val_acc:0.324.hdf5\n",
            "Epoch 80/100\n",
            " 9/25 [=========>....................] - ETA: 21s - loss: 0.7368 - acc: 0.9278 - lr: 0.0010"
          ],
          "name": "stdout"
        },
        {
          "output_type": "error",
          "ename": "KeyboardInterrupt",
          "evalue": "ignored",
          "traceback": [
            "\u001b[0;31m---------------------------------------------------------------------------\u001b[0m",
            "\u001b[0;31mKeyboardInterrupt\u001b[0m                         Traceback (most recent call last)",
            "\u001b[0;32m<ipython-input-9-f6c0ec268394>\u001b[0m in \u001b[0;36m<module>\u001b[0;34m()\u001b[0m\n\u001b[1;32m     18\u001b[0m                     \u001b[0mvalidation_steps\u001b[0m\u001b[0;34m=\u001b[0m\u001b[0mVAL_STEP_SIZE\u001b[0m\u001b[0;34m,\u001b[0m\u001b[0;34m\u001b[0m\u001b[0;34m\u001b[0m\u001b[0m\n\u001b[1;32m     19\u001b[0m                     \u001b[0mvalidation_data\u001b[0m\u001b[0;34m=\u001b[0m\u001b[0mvalidation_generator\u001b[0m\u001b[0;34m,\u001b[0m\u001b[0;34m\u001b[0m\u001b[0;34m\u001b[0m\u001b[0m\n\u001b[0;32m---> 20\u001b[0;31m                     callbacks = callbacks_list)\n\u001b[0m",
            "\u001b[0;32m/usr/local/lib/python3.6/dist-packages/keras/legacy/interfaces.py\u001b[0m in \u001b[0;36mwrapper\u001b[0;34m(*args, **kwargs)\u001b[0m\n\u001b[1;32m     89\u001b[0m                 warnings.warn('Update your `' + object_name + '` call to the ' +\n\u001b[1;32m     90\u001b[0m                               'Keras 2 API: ' + signature, stacklevel=2)\n\u001b[0;32m---> 91\u001b[0;31m             \u001b[0;32mreturn\u001b[0m \u001b[0mfunc\u001b[0m\u001b[0;34m(\u001b[0m\u001b[0;34m*\u001b[0m\u001b[0margs\u001b[0m\u001b[0;34m,\u001b[0m \u001b[0;34m**\u001b[0m\u001b[0mkwargs\u001b[0m\u001b[0;34m)\u001b[0m\u001b[0;34m\u001b[0m\u001b[0;34m\u001b[0m\u001b[0m\n\u001b[0m\u001b[1;32m     92\u001b[0m         \u001b[0mwrapper\u001b[0m\u001b[0;34m.\u001b[0m\u001b[0m_original_function\u001b[0m \u001b[0;34m=\u001b[0m \u001b[0mfunc\u001b[0m\u001b[0;34m\u001b[0m\u001b[0;34m\u001b[0m\u001b[0m\n\u001b[1;32m     93\u001b[0m         \u001b[0;32mreturn\u001b[0m \u001b[0mwrapper\u001b[0m\u001b[0;34m\u001b[0m\u001b[0;34m\u001b[0m\u001b[0m\n",
            "\u001b[0;32m/usr/local/lib/python3.6/dist-packages/keras/engine/training.py\u001b[0m in \u001b[0;36mfit_generator\u001b[0;34m(self, generator, steps_per_epoch, epochs, verbose, callbacks, validation_data, validation_steps, class_weight, max_queue_size, workers, use_multiprocessing, shuffle, initial_epoch)\u001b[0m\n\u001b[1;32m   1416\u001b[0m             \u001b[0muse_multiprocessing\u001b[0m\u001b[0;34m=\u001b[0m\u001b[0muse_multiprocessing\u001b[0m\u001b[0;34m,\u001b[0m\u001b[0;34m\u001b[0m\u001b[0;34m\u001b[0m\u001b[0m\n\u001b[1;32m   1417\u001b[0m             \u001b[0mshuffle\u001b[0m\u001b[0;34m=\u001b[0m\u001b[0mshuffle\u001b[0m\u001b[0;34m,\u001b[0m\u001b[0;34m\u001b[0m\u001b[0;34m\u001b[0m\u001b[0m\n\u001b[0;32m-> 1418\u001b[0;31m             initial_epoch=initial_epoch)\n\u001b[0m\u001b[1;32m   1419\u001b[0m \u001b[0;34m\u001b[0m\u001b[0m\n\u001b[1;32m   1420\u001b[0m     \u001b[0;34m@\u001b[0m\u001b[0minterfaces\u001b[0m\u001b[0;34m.\u001b[0m\u001b[0mlegacy_generator_methods_support\u001b[0m\u001b[0;34m\u001b[0m\u001b[0;34m\u001b[0m\u001b[0m\n",
            "\u001b[0;32m/usr/local/lib/python3.6/dist-packages/keras/engine/training_generator.py\u001b[0m in \u001b[0;36mfit_generator\u001b[0;34m(model, generator, steps_per_epoch, epochs, verbose, callbacks, validation_data, validation_steps, class_weight, max_queue_size, workers, use_multiprocessing, shuffle, initial_epoch)\u001b[0m\n\u001b[1;32m    215\u001b[0m                 outs = model.train_on_batch(x, y,\n\u001b[1;32m    216\u001b[0m                                             \u001b[0msample_weight\u001b[0m\u001b[0;34m=\u001b[0m\u001b[0msample_weight\u001b[0m\u001b[0;34m,\u001b[0m\u001b[0;34m\u001b[0m\u001b[0;34m\u001b[0m\u001b[0m\n\u001b[0;32m--> 217\u001b[0;31m                                             class_weight=class_weight)\n\u001b[0m\u001b[1;32m    218\u001b[0m \u001b[0;34m\u001b[0m\u001b[0m\n\u001b[1;32m    219\u001b[0m                 \u001b[0mouts\u001b[0m \u001b[0;34m=\u001b[0m \u001b[0mto_list\u001b[0m\u001b[0;34m(\u001b[0m\u001b[0mouts\u001b[0m\u001b[0;34m)\u001b[0m\u001b[0;34m\u001b[0m\u001b[0;34m\u001b[0m\u001b[0m\n",
            "\u001b[0;32m/usr/local/lib/python3.6/dist-packages/keras/engine/training.py\u001b[0m in \u001b[0;36mtrain_on_batch\u001b[0;34m(self, x, y, sample_weight, class_weight)\u001b[0m\n\u001b[1;32m   1215\u001b[0m             \u001b[0mins\u001b[0m \u001b[0;34m=\u001b[0m \u001b[0mx\u001b[0m \u001b[0;34m+\u001b[0m \u001b[0my\u001b[0m \u001b[0;34m+\u001b[0m \u001b[0msample_weights\u001b[0m\u001b[0;34m\u001b[0m\u001b[0;34m\u001b[0m\u001b[0m\n\u001b[1;32m   1216\u001b[0m         \u001b[0mself\u001b[0m\u001b[0;34m.\u001b[0m\u001b[0m_make_train_function\u001b[0m\u001b[0;34m(\u001b[0m\u001b[0;34m)\u001b[0m\u001b[0;34m\u001b[0m\u001b[0;34m\u001b[0m\u001b[0m\n\u001b[0;32m-> 1217\u001b[0;31m         \u001b[0moutputs\u001b[0m \u001b[0;34m=\u001b[0m \u001b[0mself\u001b[0m\u001b[0;34m.\u001b[0m\u001b[0mtrain_function\u001b[0m\u001b[0;34m(\u001b[0m\u001b[0mins\u001b[0m\u001b[0;34m)\u001b[0m\u001b[0;34m\u001b[0m\u001b[0;34m\u001b[0m\u001b[0m\n\u001b[0m\u001b[1;32m   1218\u001b[0m         \u001b[0;32mreturn\u001b[0m \u001b[0munpack_singleton\u001b[0m\u001b[0;34m(\u001b[0m\u001b[0moutputs\u001b[0m\u001b[0;34m)\u001b[0m\u001b[0;34m\u001b[0m\u001b[0;34m\u001b[0m\u001b[0m\n\u001b[1;32m   1219\u001b[0m \u001b[0;34m\u001b[0m\u001b[0m\n",
            "\u001b[0;32m/usr/local/lib/python3.6/dist-packages/keras/backend/tensorflow_backend.py\u001b[0m in \u001b[0;36m__call__\u001b[0;34m(self, inputs)\u001b[0m\n\u001b[1;32m   2713\u001b[0m                 \u001b[0;32mreturn\u001b[0m \u001b[0mself\u001b[0m\u001b[0;34m.\u001b[0m\u001b[0m_legacy_call\u001b[0m\u001b[0;34m(\u001b[0m\u001b[0minputs\u001b[0m\u001b[0;34m)\u001b[0m\u001b[0;34m\u001b[0m\u001b[0;34m\u001b[0m\u001b[0m\n\u001b[1;32m   2714\u001b[0m \u001b[0;34m\u001b[0m\u001b[0m\n\u001b[0;32m-> 2715\u001b[0;31m             \u001b[0;32mreturn\u001b[0m \u001b[0mself\u001b[0m\u001b[0;34m.\u001b[0m\u001b[0m_call\u001b[0m\u001b[0;34m(\u001b[0m\u001b[0minputs\u001b[0m\u001b[0;34m)\u001b[0m\u001b[0;34m\u001b[0m\u001b[0;34m\u001b[0m\u001b[0m\n\u001b[0m\u001b[1;32m   2716\u001b[0m         \u001b[0;32melse\u001b[0m\u001b[0;34m:\u001b[0m\u001b[0;34m\u001b[0m\u001b[0;34m\u001b[0m\u001b[0m\n\u001b[1;32m   2717\u001b[0m             \u001b[0;32mif\u001b[0m \u001b[0mpy_any\u001b[0m\u001b[0;34m(\u001b[0m\u001b[0mis_tensor\u001b[0m\u001b[0;34m(\u001b[0m\u001b[0mx\u001b[0m\u001b[0;34m)\u001b[0m \u001b[0;32mfor\u001b[0m \u001b[0mx\u001b[0m \u001b[0;32min\u001b[0m \u001b[0minputs\u001b[0m\u001b[0;34m)\u001b[0m\u001b[0;34m:\u001b[0m\u001b[0;34m\u001b[0m\u001b[0;34m\u001b[0m\u001b[0m\n",
            "\u001b[0;32m/usr/local/lib/python3.6/dist-packages/keras/backend/tensorflow_backend.py\u001b[0m in \u001b[0;36m_call\u001b[0;34m(self, inputs)\u001b[0m\n\u001b[1;32m   2673\u001b[0m             \u001b[0mfetched\u001b[0m \u001b[0;34m=\u001b[0m \u001b[0mself\u001b[0m\u001b[0;34m.\u001b[0m\u001b[0m_callable_fn\u001b[0m\u001b[0;34m(\u001b[0m\u001b[0;34m*\u001b[0m\u001b[0marray_vals\u001b[0m\u001b[0;34m,\u001b[0m \u001b[0mrun_metadata\u001b[0m\u001b[0;34m=\u001b[0m\u001b[0mself\u001b[0m\u001b[0;34m.\u001b[0m\u001b[0mrun_metadata\u001b[0m\u001b[0;34m)\u001b[0m\u001b[0;34m\u001b[0m\u001b[0;34m\u001b[0m\u001b[0m\n\u001b[1;32m   2674\u001b[0m         \u001b[0;32melse\u001b[0m\u001b[0;34m:\u001b[0m\u001b[0;34m\u001b[0m\u001b[0;34m\u001b[0m\u001b[0m\n\u001b[0;32m-> 2675\u001b[0;31m             \u001b[0mfetched\u001b[0m \u001b[0;34m=\u001b[0m \u001b[0mself\u001b[0m\u001b[0;34m.\u001b[0m\u001b[0m_callable_fn\u001b[0m\u001b[0;34m(\u001b[0m\u001b[0;34m*\u001b[0m\u001b[0marray_vals\u001b[0m\u001b[0;34m)\u001b[0m\u001b[0;34m\u001b[0m\u001b[0;34m\u001b[0m\u001b[0m\n\u001b[0m\u001b[1;32m   2676\u001b[0m         \u001b[0;32mreturn\u001b[0m \u001b[0mfetched\u001b[0m\u001b[0;34m[\u001b[0m\u001b[0;34m:\u001b[0m\u001b[0mlen\u001b[0m\u001b[0;34m(\u001b[0m\u001b[0mself\u001b[0m\u001b[0;34m.\u001b[0m\u001b[0moutputs\u001b[0m\u001b[0;34m)\u001b[0m\u001b[0;34m]\u001b[0m\u001b[0;34m\u001b[0m\u001b[0;34m\u001b[0m\u001b[0m\n\u001b[1;32m   2677\u001b[0m \u001b[0;34m\u001b[0m\u001b[0m\n",
            "\u001b[0;32m/usr/local/lib/python3.6/dist-packages/tensorflow/python/client/session.py\u001b[0m in \u001b[0;36m__call__\u001b[0;34m(self, *args, **kwargs)\u001b[0m\n\u001b[1;32m   1437\u001b[0m           ret = tf_session.TF_SessionRunCallable(\n\u001b[1;32m   1438\u001b[0m               \u001b[0mself\u001b[0m\u001b[0;34m.\u001b[0m\u001b[0m_session\u001b[0m\u001b[0;34m.\u001b[0m\u001b[0m_session\u001b[0m\u001b[0;34m,\u001b[0m \u001b[0mself\u001b[0m\u001b[0;34m.\u001b[0m\u001b[0m_handle\u001b[0m\u001b[0;34m,\u001b[0m \u001b[0margs\u001b[0m\u001b[0;34m,\u001b[0m \u001b[0mstatus\u001b[0m\u001b[0;34m,\u001b[0m\u001b[0;34m\u001b[0m\u001b[0;34m\u001b[0m\u001b[0m\n\u001b[0;32m-> 1439\u001b[0;31m               run_metadata_ptr)\n\u001b[0m\u001b[1;32m   1440\u001b[0m         \u001b[0;32mif\u001b[0m \u001b[0mrun_metadata\u001b[0m\u001b[0;34m:\u001b[0m\u001b[0;34m\u001b[0m\u001b[0;34m\u001b[0m\u001b[0m\n\u001b[1;32m   1441\u001b[0m           \u001b[0mproto_data\u001b[0m \u001b[0;34m=\u001b[0m \u001b[0mtf_session\u001b[0m\u001b[0;34m.\u001b[0m\u001b[0mTF_GetBuffer\u001b[0m\u001b[0;34m(\u001b[0m\u001b[0mrun_metadata_ptr\u001b[0m\u001b[0;34m)\u001b[0m\u001b[0;34m\u001b[0m\u001b[0;34m\u001b[0m\u001b[0m\n",
            "\u001b[0;31mKeyboardInterrupt\u001b[0m: "
          ]
        }
      ]
    },
    {
      "metadata": {
        "id": "BBLS2J0i2M_M",
        "colab_type": "code",
        "colab": {}
      },
      "cell_type": "code",
      "source": [
        "model.load_weights('/content/gdrive/My Drive/Colab Notebooks/epochs_dropout:039-val_acc:0.244.hdf5')"
      ],
      "execution_count": 0,
      "outputs": []
    },
    {
      "metadata": {
        "id": "0GKTmf6c6F4A",
        "colab_type": "code",
        "colab": {}
      },
      "cell_type": "code",
      "source": [
        "model.compile(loss='categorical_crossentropy',\n",
        "             optimizer='adam',\n",
        "             metrics=['accuracy'])"
      ],
      "execution_count": 0,
      "outputs": []
    },
    {
      "metadata": {
        "id": "ANxjF125wkgA",
        "colab_type": "code",
        "outputId": "b7b41921-52b1-4c2b-c869-483bd49ff5df",
        "colab": {
          "base_uri": "https://localhost:8080/",
          "height": 3179
        }
      },
      "cell_type": "code",
      "source": [
        "\n",
        "TRAIN_STEP_SIZE = train_generator.n//train_generator.batch_size\n",
        "VAL_STEP_SIZE = validation_generator.n//validation_generator.batch_size\n",
        "model.fit_generator(train_generator, \n",
        "                    initial_epoch = 50,\n",
        "                    epochs=50,\n",
        "                    steps_per_epoch = TRAIN_STEP_SIZE,\n",
        "                    validation_steps=VAL_STEP_SIZE,\n",
        "                    validation_data=validation_generator,\n",
        "                    callbacks = callbacks_list)"
      ],
      "execution_count": 0,
      "outputs": [
        {
          "output_type": "stream",
          "text": [
            "WARNING:tensorflow:From /usr/local/lib/python3.6/dist-packages/tensorflow/python/ops/math_ops.py:3066: to_int32 (from tensorflow.python.ops.math_ops) is deprecated and will be removed in a future version.\n",
            "Instructions for updating:\n",
            "Use tf.cast instead.\n",
            "Epoch 10/50\n",
            "200/200 [==============================] - 139s 694ms/step - loss: 3.2302 - acc: 0.4660 - val_loss: 5.2531 - val_acc: 0.1999\n",
            "\n",
            "Epoch 00010: val_acc improved from -inf to 0.19990, saving model to /content/gdrive/My Drive/Colab Notebooks/epochs:010-val_acc:0.200.hdf5\n",
            "Epoch 11/50\n",
            "200/200 [==============================] - 110s 548ms/step - loss: 2.8082 - acc: 0.5575 - val_loss: 5.6182 - val_acc: 0.1856\n",
            "\n",
            "Epoch 00011: val_acc did not improve from 0.19990\n",
            "Epoch 12/50\n",
            "200/200 [==============================] - 111s 555ms/step - loss: 2.5504 - acc: 0.6148 - val_loss: 6.1096 - val_acc: 0.1827\n",
            "\n",
            "Epoch 00012: val_acc did not improve from 0.19990\n",
            "Epoch 13/50\n",
            "200/200 [==============================] - 112s 558ms/step - loss: 2.3390 - acc: 0.6688 - val_loss: 6.1386 - val_acc: 0.1833\n",
            "\n",
            "Epoch 00013: val_acc did not improve from 0.19990\n",
            "Epoch 14/50\n",
            "200/200 [==============================] - 111s 554ms/step - loss: 2.1745 - acc: 0.7122 - val_loss: 6.9439 - val_acc: 0.1632\n",
            "\n",
            "Epoch 00014: val_acc did not improve from 0.19990\n",
            "Epoch 15/50\n",
            "200/200 [==============================] - 111s 553ms/step - loss: 2.0492 - acc: 0.7472 - val_loss: 6.9344 - val_acc: 0.1659\n",
            "\n",
            "Epoch 00015: val_acc did not improve from 0.19990\n",
            "Epoch 16/50\n",
            "200/200 [==============================] - 109s 543ms/step - loss: 1.9578 - acc: 0.7744 - val_loss: 7.1902 - val_acc: 0.1622\n",
            "\n",
            "Epoch 00016: val_acc did not improve from 0.19990\n",
            "Epoch 17/50\n",
            "200/200 [==============================] - 110s 549ms/step - loss: 1.9006 - acc: 0.7925 - val_loss: 7.7504 - val_acc: 0.1520\n",
            "\n",
            "Epoch 00017: val_acc did not improve from 0.19990\n",
            "Epoch 18/50\n",
            "200/200 [==============================] - 109s 546ms/step - loss: 1.8444 - acc: 0.8113 - val_loss: 7.4512 - val_acc: 0.1692\n",
            "\n",
            "Epoch 00018: val_acc did not improve from 0.19990\n",
            "Epoch 19/50\n",
            "200/200 [==============================] - 108s 541ms/step - loss: 1.8121 - acc: 0.8240 - val_loss: 7.9100 - val_acc: 0.1618\n",
            "\n",
            "Epoch 00019: val_acc did not improve from 0.19990\n",
            "Epoch 20/50\n",
            "200/200 [==============================] - 108s 541ms/step - loss: 1.7685 - acc: 0.8383 - val_loss: 7.8766 - val_acc: 0.1632\n",
            "\n",
            "Epoch 00020: val_acc did not improve from 0.19990\n",
            "Epoch 21/50\n",
            "200/200 [==============================] - 108s 541ms/step - loss: 1.7759 - acc: 0.8383 - val_loss: 8.0713 - val_acc: 0.1593\n",
            "\n",
            "Epoch 00021: val_acc did not improve from 0.19990\n",
            "Epoch 22/50\n",
            "200/200 [==============================] - 108s 539ms/step - loss: 1.7408 - acc: 0.8512 - val_loss: 8.0137 - val_acc: 0.1573\n",
            "\n",
            "Epoch 00022: val_acc did not improve from 0.19990\n",
            "Epoch 23/50\n",
            "200/200 [==============================] - 108s 540ms/step - loss: 1.7085 - acc: 0.8611 - val_loss: 8.0413 - val_acc: 0.1640\n",
            "\n",
            "Epoch 00023: val_acc did not improve from 0.19990\n",
            "Epoch 24/50\n",
            "200/200 [==============================] - 107s 537ms/step - loss: 1.7209 - acc: 0.8581 - val_loss: 8.0774 - val_acc: 0.1731\n",
            "\n",
            "Epoch 00024: val_acc did not improve from 0.19990\n",
            "Epoch 25/50\n",
            "200/200 [==============================] - 109s 545ms/step - loss: 1.7643 - acc: 0.8495 - val_loss: 8.5109 - val_acc: 0.1514\n",
            "\n",
            "Epoch 00025: val_acc did not improve from 0.19990\n",
            "Epoch 26/50\n",
            "200/200 [==============================] - 110s 550ms/step - loss: 1.7073 - acc: 0.8690 - val_loss: 8.1660 - val_acc: 0.1632\n",
            "\n",
            "Epoch 00026: val_acc did not improve from 0.19990\n",
            "Epoch 27/50\n",
            "200/200 [==============================] - 110s 550ms/step - loss: 1.6678 - acc: 0.8784 - val_loss: 8.2710 - val_acc: 0.1676\n",
            "\n",
            "Epoch 00027: val_acc did not improve from 0.19990\n",
            "Epoch 28/50\n",
            "200/200 [==============================] - 110s 549ms/step - loss: 1.6907 - acc: 0.8712 - val_loss: 8.5941 - val_acc: 0.1629\n",
            "\n",
            "Epoch 00028: val_acc did not improve from 0.19990\n",
            "Epoch 29/50\n",
            "200/200 [==============================] - 110s 551ms/step - loss: 1.7091 - acc: 0.8683 - val_loss: 8.3595 - val_acc: 0.1557\n",
            "\n",
            "Epoch 00029: val_acc did not improve from 0.19990\n",
            "Epoch 30/50\n",
            "200/200 [==============================] - 110s 552ms/step - loss: 1.6843 - acc: 0.8774 - val_loss: 8.7860 - val_acc: 0.1694\n",
            "\n",
            "Epoch 00030: val_acc did not improve from 0.19990\n",
            "Epoch 31/50\n",
            "200/200 [==============================] - 110s 552ms/step - loss: 1.6877 - acc: 0.8756 - val_loss: 8.6141 - val_acc: 0.1609\n",
            "\n",
            "Epoch 00031: val_acc did not improve from 0.19990\n",
            "Epoch 32/50\n",
            "200/200 [==============================] - 111s 554ms/step - loss: 1.6724 - acc: 0.8810 - val_loss: 8.3935 - val_acc: 0.1771\n",
            "\n",
            "Epoch 00032: val_acc did not improve from 0.19990\n",
            "Epoch 33/50\n",
            "200/200 [==============================] - 109s 544ms/step - loss: 1.6376 - acc: 0.8890 - val_loss: 8.6910 - val_acc: 0.1625\n",
            "\n",
            "Epoch 00033: val_acc did not improve from 0.19990\n",
            "Epoch 34/50\n",
            "200/200 [==============================] - 108s 539ms/step - loss: 1.6798 - acc: 0.8783 - val_loss: 8.6161 - val_acc: 0.1709\n",
            "\n",
            "Epoch 00034: val_acc did not improve from 0.19990\n",
            "Epoch 35/50\n",
            "200/200 [==============================] - 108s 540ms/step - loss: 1.7094 - acc: 0.8712 - val_loss: 8.5040 - val_acc: 0.1700\n",
            "\n",
            "Epoch 00035: val_acc did not improve from 0.19990\n",
            "Epoch 36/50\n",
            "200/200 [==============================] - 107s 537ms/step - loss: 1.6534 - acc: 0.8888 - val_loss: 9.0556 - val_acc: 0.1508\n",
            "\n",
            "Epoch 00036: val_acc did not improve from 0.19990\n",
            "Epoch 37/50\n",
            "200/200 [==============================] - 106s 531ms/step - loss: 1.5915 - acc: 0.9046 - val_loss: 8.5008 - val_acc: 0.1750\n",
            "\n",
            "Epoch 00037: val_acc did not improve from 0.19990\n",
            "Epoch 38/50\n",
            "200/200 [==============================] - 106s 531ms/step - loss: 1.6225 - acc: 0.8917 - val_loss: 8.7126 - val_acc: 0.1630\n",
            "\n",
            "Epoch 00038: val_acc did not improve from 0.19990\n",
            "Epoch 39/50\n",
            "200/200 [==============================] - 105s 525ms/step - loss: 1.6835 - acc: 0.8764 - val_loss: 8.8801 - val_acc: 0.1566\n",
            "\n",
            "Epoch 00039: val_acc did not improve from 0.19990\n",
            "Epoch 40/50\n",
            "200/200 [==============================] - 105s 523ms/step - loss: 1.6644 - acc: 0.8842 - val_loss: 8.6440 - val_acc: 0.1475\n",
            "\n",
            "Epoch 00040: val_acc did not improve from 0.19990\n",
            "Epoch 41/50\n",
            "200/200 [==============================] - 105s 527ms/step - loss: 1.5953 - acc: 0.9044 - val_loss: 8.4365 - val_acc: 0.1803\n",
            "\n",
            "Epoch 00041: val_acc did not improve from 0.19990\n",
            "Epoch 42/50\n",
            "200/200 [==============================] - 105s 524ms/step - loss: 1.6022 - acc: 0.8985 - val_loss: 8.8396 - val_acc: 0.1686\n",
            "\n",
            "Epoch 00042: val_acc did not improve from 0.19990\n",
            "Epoch 43/50\n",
            "200/200 [==============================] - 105s 525ms/step - loss: 1.6402 - acc: 0.8871 - val_loss: 8.9774 - val_acc: 0.1554\n",
            "\n",
            "Epoch 00043: val_acc did not improve from 0.19990\n",
            "Epoch 44/50\n",
            "200/200 [==============================] - 105s 525ms/step - loss: 1.6511 - acc: 0.8863 - val_loss: 8.7725 - val_acc: 0.1715\n",
            "\n",
            "Epoch 00044: val_acc did not improve from 0.19990\n",
            "Epoch 45/50\n",
            "200/200 [==============================] - 104s 522ms/step - loss: 1.6200 - acc: 0.8957 - val_loss: 8.5893 - val_acc: 0.1720\n",
            "\n",
            "Epoch 00045: val_acc did not improve from 0.19990\n",
            "Epoch 46/50\n",
            "200/200 [==============================] - 104s 522ms/step - loss: 1.5791 - acc: 0.9059 - val_loss: 8.7575 - val_acc: 0.1643\n",
            "\n",
            "Epoch 00046: val_acc did not improve from 0.19990\n",
            "Epoch 47/50\n",
            "200/200 [==============================] - 104s 522ms/step - loss: 1.5845 - acc: 0.9013 - val_loss: 9.1114 - val_acc: 0.1576\n",
            "\n",
            "Epoch 00047: val_acc did not improve from 0.19990\n",
            "Epoch 48/50\n",
            "200/200 [==============================] - 104s 519ms/step - loss: 1.6260 - acc: 0.8900 - val_loss: 9.1458 - val_acc: 0.1604\n",
            "\n",
            "Epoch 00048: val_acc did not improve from 0.19990\n",
            "Epoch 49/50\n",
            "200/200 [==============================] - 104s 521ms/step - loss: 1.6251 - acc: 0.8923 - val_loss: 8.6600 - val_acc: 0.1744\n",
            "\n",
            "Epoch 00049: val_acc did not improve from 0.19990\n",
            "Epoch 50/50\n",
            "200/200 [==============================] - 105s 527ms/step - loss: 1.5901 - acc: 0.9028 - val_loss: 8.4613 - val_acc: 0.1749\n",
            "\n",
            "Epoch 00050: val_acc did not improve from 0.19990\n"
          ],
          "name": "stdout"
        },
        {
          "output_type": "execute_result",
          "data": {
            "text/plain": [
              "<keras.callbacks.History at 0x7f6351c08780>"
            ]
          },
          "metadata": {
            "tags": []
          },
          "execution_count": 22
        }
      ]
    },
    {
      "metadata": {
        "id": "NpMgeAGeWNaY",
        "colab_type": "code",
        "colab": {}
      },
      "cell_type": "code",
      "source": [
        "# Saving the model after 50 epochs trained on 32x32 image\n",
        "model.save_weights(\"/content/gdrive/My Drive/Colab Notebooks/epochs:050-val_acc:0.18.hdf5\")\n",
        "\n"
      ],
      "execution_count": 0,
      "outputs": []
    },
    {
      "metadata": {
        "id": "E7A5Ok-YYpl4",
        "colab_type": "code",
        "outputId": "198f0cf0-4d83-4c28-fae2-a2c044d53778",
        "colab": {
          "base_uri": "https://localhost:8080/",
          "height": 414
        }
      },
      "cell_type": "code",
      "source": [
        "# Reading 64x64 image\n",
        "train_generator = train_datagen.flow_from_directory( r'./tiny-imagenet-200/train', target_size=(64, 64), color_mode='rgb', \n",
        "                                                    batch_size=500, class_mode='categorical', shuffle=True, seed=42)\n",
        "\n",
        "\n",
        "\n",
        "validation_generator = valid_datagen.flow_from_dataframe(val_data, directory='./tiny-imagenet-200/val/images', x_col='File', y_col='Class', \n",
        "                                                         target_size=(64, 64), color_mode='rgb', class_mode='categorical', \n",
        "                                                         batch_size=500, shuffle=True, seed=42)\n",
        "\n",
        "\n",
        "import matplotlib.pyplot as plt\n",
        "\n",
        "x_batch, y_batch = next(train_generator)\n",
        "\n",
        "fig = plt.figure(figsize=(14, 6))\n",
        "\n",
        "\n",
        "for i in range(8):\n",
        "\n",
        "    sub = fig.add_subplot(2, \n",
        "\n",
        "4, i + 1)\n",
        "\n",
        "    sub.imshow(x_batch[i,:,:], interpolation='nearest')\n",
        "\n"
      ],
      "execution_count": 0,
      "outputs": [
        {
          "output_type": "stream",
          "text": [
            "Found 100000 images belonging to 200 classes.\n",
            "Found 10000 images belonging to 200 classes.\n"
          ],
          "name": "stdout"
        },
        {
          "output_type": "display_data",
          "data": {
            "image/png": "[encoded data removed]",
            "text/plain": [
              "<Figure size 1008x432 with 8 Axes>"
            ]
          },
          "metadata": {
            "tags": []
          }
        }
      ]
    },
    {
      "metadata": {
        "id": "EbH9gSf-aIZ5",
        "colab_type": "code",
        "outputId": "8b329acb-d218-45e7-8e30-06b3f3ab36dc",
        "colab": {
          "base_uri": "https://localhost:8080/",
          "height": 149
        }
      },
      "cell_type": "code",
      "source": [
        "model = ResnetBuilder.build_resnet_50(input_shape = (3,64,64), num_outputs = 200)\n"
      ],
      "execution_count": 0,
      "outputs": [
        {
          "output_type": "stream",
          "text": [
            "WARNING:tensorflow:From /usr/local/lib/python3.6/dist-packages/tensorflow/python/framework/op_def_library.py:263: colocate_with (from tensorflow.python.framework.ops) is deprecated and will be removed in a future version.\n",
            "Instructions for updating:\n",
            "Colocations handled automatically by placer.\n",
            "WARNING:tensorflow:From /usr/local/lib/python3.6/dist-packages/keras/backend/tensorflow_backend.py:3445: calling dropout (from tensorflow.python.ops.nn_ops) with keep_prob is deprecated and will be removed in a future version.\n",
            "Instructions for updating:\n",
            "Please use `rate` instead of `keep_prob`. Rate should be set to `rate = 1 - keep_prob`.\n"
          ],
          "name": "stdout"
        }
      ]
    },
    {
      "metadata": {
        "id": "3pFKm4CJathS",
        "colab_type": "code",
        "outputId": "bc4ecad8-63aa-44f6-e749-65942569de47",
        "colab": {
          "base_uri": "https://localhost:8080/",
          "height": 699
        }
      },
      "cell_type": "code",
      "source": [
        "model.load_weights('/content/gdrive/My Drive/Colab Notebooks/epochs_dropout:039-val_acc:0.244.hdf5')\n"
      ],
      "execution_count": 0,
      "outputs": [
        {
          "output_type": "error",
          "ename": "OSError",
          "evalue": "ignored",
          "traceback": [
            "\u001b[0;31m---------------------------------------------------------------------------\u001b[0m",
            "\u001b[0;31mOSError\u001b[0m                                   Traceback (most recent call last)",
            "\u001b[0;32m<ipython-input-13-1120a8b08149>\u001b[0m in \u001b[0;36m<module>\u001b[0;34m()\u001b[0m\n\u001b[0;32m----> 1\u001b[0;31m \u001b[0mmodel\u001b[0m\u001b[0;34m.\u001b[0m\u001b[0mload_weights\u001b[0m\u001b[0;34m(\u001b[0m\u001b[0;34m'/content/gdrive/My Drive/Colab Notebooks/epochs_dropout:039-val_acc:0.244.hdf5'\u001b[0m\u001b[0;34m)\u001b[0m\u001b[0;34m\u001b[0m\u001b[0;34m\u001b[0m\u001b[0m\n\u001b[0m",
            "\u001b[0;32m/usr/local/lib/python3.6/dist-packages/keras/engine/network.py\u001b[0m in \u001b[0;36mload_weights\u001b[0;34m(self, filepath, by_name, skip_mismatch, reshape)\u001b[0m\n\u001b[1;32m   1155\u001b[0m         \u001b[0;32mif\u001b[0m \u001b[0mh5py\u001b[0m \u001b[0;32mis\u001b[0m \u001b[0;32mNone\u001b[0m\u001b[0;34m:\u001b[0m\u001b[0;34m\u001b[0m\u001b[0;34m\u001b[0m\u001b[0m\n\u001b[1;32m   1156\u001b[0m             \u001b[0;32mraise\u001b[0m \u001b[0mImportError\u001b[0m\u001b[0;34m(\u001b[0m\u001b[0;34m'`load_weights` requires h5py.'\u001b[0m\u001b[0;34m)\u001b[0m\u001b[0;34m\u001b[0m\u001b[0;34m\u001b[0m\u001b[0m\n\u001b[0;32m-> 1157\u001b[0;31m         \u001b[0;32mwith\u001b[0m \u001b[0mh5py\u001b[0m\u001b[0;34m.\u001b[0m\u001b[0mFile\u001b[0m\u001b[0;34m(\u001b[0m\u001b[0mfilepath\u001b[0m\u001b[0;34m,\u001b[0m \u001b[0mmode\u001b[0m\u001b[0;34m=\u001b[0m\u001b[0;34m'r'\u001b[0m\u001b[0;34m)\u001b[0m \u001b[0;32mas\u001b[0m \u001b[0mf\u001b[0m\u001b[0;34m:\u001b[0m\u001b[0;34m\u001b[0m\u001b[0;34m\u001b[0m\u001b[0m\n\u001b[0m\u001b[1;32m   1158\u001b[0m             \u001b[0;32mif\u001b[0m \u001b[0;34m'layer_names'\u001b[0m \u001b[0;32mnot\u001b[0m \u001b[0;32min\u001b[0m \u001b[0mf\u001b[0m\u001b[0;34m.\u001b[0m\u001b[0mattrs\u001b[0m \u001b[0;32mand\u001b[0m \u001b[0;34m'model_weights'\u001b[0m \u001b[0;32min\u001b[0m \u001b[0mf\u001b[0m\u001b[0;34m:\u001b[0m\u001b[0;34m\u001b[0m\u001b[0;34m\u001b[0m\u001b[0m\n\u001b[1;32m   1159\u001b[0m                 \u001b[0mf\u001b[0m \u001b[0;34m=\u001b[0m \u001b[0mf\u001b[0m\u001b[0;34m[\u001b[0m\u001b[0;34m'model_weights'\u001b[0m\u001b[0;34m]\u001b[0m\u001b[0;34m\u001b[0m\u001b[0;34m\u001b[0m\u001b[0m\n",
            "\u001b[0;32m/usr/local/lib/python3.6/dist-packages/h5py/_hl/files.py\u001b[0m in \u001b[0;36m__init__\u001b[0;34m(self, name, mode, driver, libver, userblock_size, swmr, **kwds)\u001b[0m\n\u001b[1;32m    310\u001b[0m             \u001b[0;32mwith\u001b[0m \u001b[0mphil\u001b[0m\u001b[0;34m:\u001b[0m\u001b[0;34m\u001b[0m\u001b[0;34m\u001b[0m\u001b[0m\n\u001b[1;32m    311\u001b[0m                 \u001b[0mfapl\u001b[0m \u001b[0;34m=\u001b[0m \u001b[0mmake_fapl\u001b[0m\u001b[0;34m(\u001b[0m\u001b[0mdriver\u001b[0m\u001b[0;34m,\u001b[0m \u001b[0mlibver\u001b[0m\u001b[0;34m,\u001b[0m \u001b[0;34m**\u001b[0m\u001b[0mkwds\u001b[0m\u001b[0;34m)\u001b[0m\u001b[0;34m\u001b[0m\u001b[0;34m\u001b[0m\u001b[0m\n\u001b[0;32m--> 312\u001b[0;31m                 \u001b[0mfid\u001b[0m \u001b[0;34m=\u001b[0m \u001b[0mmake_fid\u001b[0m\u001b[0;34m(\u001b[0m\u001b[0mname\u001b[0m\u001b[0;34m,\u001b[0m \u001b[0mmode\u001b[0m\u001b[0;34m,\u001b[0m \u001b[0muserblock_size\u001b[0m\u001b[0;34m,\u001b[0m \u001b[0mfapl\u001b[0m\u001b[0;34m,\u001b[0m \u001b[0mswmr\u001b[0m\u001b[0;34m=\u001b[0m\u001b[0mswmr\u001b[0m\u001b[0;34m)\u001b[0m\u001b[0;34m\u001b[0m\u001b[0;34m\u001b[0m\u001b[0m\n\u001b[0m\u001b[1;32m    313\u001b[0m \u001b[0;34m\u001b[0m\u001b[0m\n\u001b[1;32m    314\u001b[0m                 \u001b[0;32mif\u001b[0m \u001b[0mswmr_support\u001b[0m\u001b[0;34m:\u001b[0m\u001b[0;34m\u001b[0m\u001b[0;34m\u001b[0m\u001b[0m\n",
            "\u001b[0;32m/usr/local/lib/python3.6/dist-packages/h5py/_hl/files.py\u001b[0m in \u001b[0;36mmake_fid\u001b[0;34m(name, mode, userblock_size, fapl, fcpl, swmr)\u001b[0m\n\u001b[1;32m    140\u001b[0m         \u001b[0;32mif\u001b[0m \u001b[0mswmr\u001b[0m \u001b[0;32mand\u001b[0m \u001b[0mswmr_support\u001b[0m\u001b[0;34m:\u001b[0m\u001b[0;34m\u001b[0m\u001b[0;34m\u001b[0m\u001b[0m\n\u001b[1;32m    141\u001b[0m             \u001b[0mflags\u001b[0m \u001b[0;34m|=\u001b[0m \u001b[0mh5f\u001b[0m\u001b[0;34m.\u001b[0m\u001b[0mACC_SWMR_READ\u001b[0m\u001b[0;34m\u001b[0m\u001b[0;34m\u001b[0m\u001b[0m\n\u001b[0;32m--> 142\u001b[0;31m         \u001b[0mfid\u001b[0m \u001b[0;34m=\u001b[0m \u001b[0mh5f\u001b[0m\u001b[0;34m.\u001b[0m\u001b[0mopen\u001b[0m\u001b[0;34m(\u001b[0m\u001b[0mname\u001b[0m\u001b[0;34m,\u001b[0m \u001b[0mflags\u001b[0m\u001b[0;34m,\u001b[0m \u001b[0mfapl\u001b[0m\u001b[0;34m=\u001b[0m\u001b[0mfapl\u001b[0m\u001b[0;34m)\u001b[0m\u001b[0;34m\u001b[0m\u001b[0;34m\u001b[0m\u001b[0m\n\u001b[0m\u001b[1;32m    143\u001b[0m     \u001b[0;32melif\u001b[0m \u001b[0mmode\u001b[0m \u001b[0;34m==\u001b[0m \u001b[0;34m'r+'\u001b[0m\u001b[0;34m:\u001b[0m\u001b[0;34m\u001b[0m\u001b[0;34m\u001b[0m\u001b[0m\n\u001b[1;32m    144\u001b[0m         \u001b[0mfid\u001b[0m \u001b[0;34m=\u001b[0m \u001b[0mh5f\u001b[0m\u001b[0;34m.\u001b[0m\u001b[0mopen\u001b[0m\u001b[0;34m(\u001b[0m\u001b[0mname\u001b[0m\u001b[0;34m,\u001b[0m \u001b[0mh5f\u001b[0m\u001b[0;34m.\u001b[0m\u001b[0mACC_RDWR\u001b[0m\u001b[0;34m,\u001b[0m \u001b[0mfapl\u001b[0m\u001b[0;34m=\u001b[0m\u001b[0mfapl\u001b[0m\u001b[0;34m)\u001b[0m\u001b[0;34m\u001b[0m\u001b[0;34m\u001b[0m\u001b[0m\n",
            "\u001b[0;32mh5py/_objects.pyx\u001b[0m in \u001b[0;36mh5py._objects.with_phil.wrapper\u001b[0;34m()\u001b[0m\n",
            "\u001b[0;32mh5py/_objects.pyx\u001b[0m in \u001b[0;36mh5py._objects.with_phil.wrapper\u001b[0;34m()\u001b[0m\n",
            "\u001b[0;32mh5py/h5f.pyx\u001b[0m in \u001b[0;36mh5py.h5f.open\u001b[0;34m()\u001b[0m\n",
            "\u001b[0;31mOSError\u001b[0m: Unable to open file (unable to open file: name = '/content/gdrive/My Drive/Colab Notebooks/epochs_dropout:039-val_acc:0.244.hdf5', errno = 2, error message = 'No such file or directory', flags = 0, o_flags = 0)"
          ]
        }
      ]
    },
    {
      "metadata": {
        "colab_type": "code",
        "id": "TBGNgbCmbGOk",
        "colab": {}
      },
      "cell_type": "code",
      "source": [
        "model.compile(loss='categorical_crossentropy',\n",
        "             optimizer='adam',\n",
        "             metrics=['accuracy'])"
      ],
      "execution_count": 0,
      "outputs": []
    },
    {
      "metadata": {
        "colab_type": "code",
        "outputId": "dbadc156-ac40-45a5-9118-b6a6e8a6a1fd",
        "id": "-fz-7HTGbGOz",
        "colab": {
          "base_uri": "https://localhost:8080/",
          "height": 4383
        }
      },
      "cell_type": "code",
      "source": [
        "from keras.callbacks import *\n",
        "\n",
        "filepath=\"/content/gdrive/My Drive/Colab Notebooks/epochs:{epoch:03d}-val_acc:{val_acc:.3f}.hdf5\"\n",
        "checkpoint = ModelCheckpoint(filepath, monitor='val_acc', verbose=1, save_best_only=True, mode='max')\n",
        "reduce_lr = ReduceLROnPlateau(monitor='val_loss', factor=0.2,\n",
        "                              patience=5, min_lr=0.0001)\n",
        "\n",
        "       \n",
        "callbacks_list = [checkpoint, reduce_lr]\n",
        "\n",
        "\n",
        "TRAIN_STEP_SIZE = train_generator.n//train_generator.batch_size\n",
        "VAL_STEP_SIZE = validation_generator.n//validation_generator.batch_size\n",
        "history = model.fit_generator(train_generator, \n",
        "                    initial_epoch = 50,\n",
        "                    epochs=100,\n",
        "                    steps_per_epoch = TRAIN_STEP_SIZE,\n",
        "                    validation_steps=VAL_STEP_SIZE,\n",
        "                    validation_data=validation_generator,\n",
        "                    callbacks = callbacks_list)"
      ],
      "execution_count": 0,
      "outputs": [
        {
          "output_type": "stream",
          "text": [
            "WARNING:tensorflow:From /usr/local/lib/python3.6/dist-packages/tensorflow/python/ops/math_ops.py:3066: to_int32 (from tensorflow.python.ops.math_ops) is deprecated and will be removed in a future version.\n",
            "Instructions for updating:\n",
            "Use tf.cast instead.\n",
            "Epoch 51/100\n",
            "200/200 [==============================] - 262s 1s/step - loss: 4.7015 - acc: 0.2458 - val_loss: 4.7031 - val_acc: 0.2294\n",
            "\n",
            "Epoch 00051: val_acc improved from -inf to 0.22940, saving model to /content/gdrive/My Drive/Colab Notebooks/epochs:051-val_acc:0.229.hdf5\n",
            "Epoch 52/100\n",
            "200/200 [==============================] - 236s 1s/step - loss: 3.7647 - acc: 0.3798 - val_loss: 4.4194 - val_acc: 0.2631\n",
            "\n",
            "Epoch 00052: val_acc improved from 0.22940 to 0.26310, saving model to /content/gdrive/My Drive/Colab Notebooks/epochs:052-val_acc:0.263.hdf5\n",
            "Epoch 53/100\n",
            "200/200 [==============================] - 236s 1s/step - loss: 3.2593 - acc: 0.4745 - val_loss: 4.4432 - val_acc: 0.2814\n",
            "\n",
            "Epoch 00053: val_acc improved from 0.26310 to 0.28140, saving model to /content/gdrive/My Drive/Colab Notebooks/epochs:053-val_acc:0.281.hdf5\n",
            "Epoch 54/100\n",
            "200/200 [==============================] - 236s 1s/step - loss: 2.8109 - acc: 0.5783 - val_loss: 4.8104 - val_acc: 0.2744\n",
            "\n",
            "Epoch 00054: val_acc did not improve from 0.28140\n",
            "Epoch 55/100\n",
            "200/200 [==============================] - 236s 1s/step - loss: 2.4237 - acc: 0.6754 - val_loss: 5.4394 - val_acc: 0.2341\n",
            "\n",
            "Epoch 00055: val_acc did not improve from 0.28140\n",
            "Epoch 56/100\n",
            "200/200 [==============================] - 236s 1s/step - loss: 2.1016 - acc: 0.7650 - val_loss: 5.8790 - val_acc: 0.2245\n",
            "\n",
            "Epoch 00056: val_acc did not improve from 0.28140\n",
            "Epoch 57/100\n",
            "200/200 [==============================] - 236s 1s/step - loss: 1.9295 - acc: 0.8145 - val_loss: 5.8661 - val_acc: 0.2354\n",
            "\n",
            "Epoch 00057: val_acc did not improve from 0.28140\n",
            "Epoch 58/100\n",
            "200/200 [==============================] - 236s 1s/step - loss: 1.8029 - acc: 0.8506 - val_loss: 6.6333 - val_acc: 0.2163\n",
            "\n",
            "Epoch 00058: val_acc did not improve from 0.28140\n",
            "Epoch 59/100\n",
            "200/200 [==============================] - 236s 1s/step - loss: 1.7556 - acc: 0.8643 - val_loss: 6.7669 - val_acc: 0.2082\n",
            "\n",
            "Epoch 00059: val_acc did not improve from 0.28140\n",
            "Epoch 60/100\n",
            "200/200 [==============================] - 236s 1s/step - loss: 1.7258 - acc: 0.8723 - val_loss: 6.5991 - val_acc: 0.2333\n",
            "\n",
            "Epoch 00060: val_acc did not improve from 0.28140\n",
            "Epoch 61/100\n",
            "200/200 [==============================] - 236s 1s/step - loss: 1.7215 - acc: 0.8745 - val_loss: 7.0820 - val_acc: 0.2126\n",
            "\n",
            "Epoch 00061: val_acc did not improve from 0.28140\n",
            "Epoch 62/100\n",
            "200/200 [==============================] - 236s 1s/step - loss: 1.7347 - acc: 0.8732 - val_loss: 6.7772 - val_acc: 0.2320\n",
            "\n",
            "Epoch 00062: val_acc did not improve from 0.28140\n",
            "Epoch 63/100\n",
            "200/200 [==============================] - 236s 1s/step - loss: 1.7231 - acc: 0.8798 - val_loss: 7.1166 - val_acc: 0.2169\n",
            "\n",
            "Epoch 00063: val_acc did not improve from 0.28140\n",
            "Epoch 64/100\n",
            "200/200 [==============================] - 236s 1s/step - loss: 1.6731 - acc: 0.8947 - val_loss: 7.1572 - val_acc: 0.2136\n",
            "\n",
            "Epoch 00064: val_acc did not improve from 0.28140\n",
            "Epoch 65/100\n",
            "200/200 [==============================] - 236s 1s/step - loss: 1.6661 - acc: 0.8949 - val_loss: 7.0962 - val_acc: 0.2347\n",
            "\n",
            "Epoch 00065: val_acc did not improve from 0.28140\n",
            "Epoch 66/100\n",
            "200/200 [==============================] - 235s 1s/step - loss: 1.7046 - acc: 0.8843 - val_loss: 7.1305 - val_acc: 0.2449\n",
            "\n",
            "Epoch 00066: val_acc did not improve from 0.28140\n",
            "Epoch 67/100\n",
            "200/200 [==============================] - 236s 1s/step - loss: 1.7027 - acc: 0.8879 - val_loss: 7.3264 - val_acc: 0.2190\n",
            "\n",
            "Epoch 00067: val_acc did not improve from 0.28140\n",
            "Epoch 68/100\n",
            "200/200 [==============================] - 236s 1s/step - loss: 1.6541 - acc: 0.9033 - val_loss: 7.5637 - val_acc: 0.2270\n",
            "\n",
            "Epoch 00068: val_acc did not improve from 0.28140\n",
            "Epoch 69/100\n",
            "200/200 [==============================] - 236s 1s/step - loss: 1.6205 - acc: 0.9086 - val_loss: 7.2708 - val_acc: 0.2135\n",
            "\n",
            "Epoch 00069: val_acc did not improve from 0.28140\n",
            "Epoch 70/100\n",
            "200/200 [==============================] - 236s 1s/step - loss: 1.6559 - acc: 0.8972 - val_loss: 7.4636 - val_acc: 0.2234\n",
            "\n",
            "Epoch 00070: val_acc did not improve from 0.28140\n",
            "Epoch 71/100\n",
            "200/200 [==============================] - 235s 1s/step - loss: 1.6665 - acc: 0.8975 - val_loss: 7.5988 - val_acc: 0.2220\n",
            "\n",
            "Epoch 00071: val_acc did not improve from 0.28140\n",
            "Epoch 72/100\n",
            "200/200 [==============================] - 236s 1s/step - loss: 1.6531 - acc: 0.9009 - val_loss: 7.7560 - val_acc: 0.2126\n",
            "\n",
            "Epoch 00072: val_acc did not improve from 0.28140\n",
            "Epoch 73/100\n",
            "200/200 [==============================] - 236s 1s/step - loss: 1.6423 - acc: 0.9052 - val_loss: 7.9834 - val_acc: 0.2155\n",
            "\n",
            "Epoch 00073: val_acc did not improve from 0.28140\n",
            "Epoch 74/100\n",
            "200/200 [==============================] - 236s 1s/step - loss: 1.6277 - acc: 0.9075 - val_loss: 7.7623 - val_acc: 0.2257\n",
            "\n",
            "Epoch 00074: val_acc did not improve from 0.28140\n",
            "Epoch 75/100\n",
            "200/200 [==============================] - 236s 1s/step - loss: 1.6272 - acc: 0.9065 - val_loss: 7.2532 - val_acc: 0.2333\n",
            "\n",
            "Epoch 00075: val_acc did not improve from 0.28140\n",
            "Epoch 76/100\n",
            "200/200 [==============================] - 237s 1s/step - loss: 1.6448 - acc: 0.9016 - val_loss: 7.3887 - val_acc: 0.2505\n",
            "\n",
            "Epoch 00076: val_acc did not improve from 0.28140\n",
            "Epoch 77/100\n",
            "200/200 [==============================] - 237s 1s/step - loss: 1.6219 - acc: 0.9091 - val_loss: 7.5902 - val_acc: 0.2148\n",
            "\n",
            "Epoch 00077: val_acc did not improve from 0.28140\n",
            "Epoch 78/100\n",
            "200/200 [==============================] - 236s 1s/step - loss: 1.6176 - acc: 0.9093 - val_loss: 7.8289 - val_acc: 0.2117\n",
            "\n",
            "Epoch 00078: val_acc did not improve from 0.28140\n",
            "Epoch 79/100\n",
            "200/200 [==============================] - 236s 1s/step - loss: 1.6164 - acc: 0.9087 - val_loss: 7.6658 - val_acc: 0.2323\n",
            "\n",
            "Epoch 00079: val_acc did not improve from 0.28140\n",
            "Epoch 80/100\n",
            "200/200 [==============================] - 236s 1s/step - loss: 1.6055 - acc: 0.9112 - val_loss: 8.0182 - val_acc: 0.2238\n",
            "\n",
            "Epoch 00080: val_acc did not improve from 0.28140\n",
            "Epoch 81/100\n",
            "200/200 [==============================] - 236s 1s/step - loss: 1.5963 - acc: 0.9121 - val_loss: 7.6381 - val_acc: 0.2242\n",
            "\n",
            "Epoch 00081: val_acc did not improve from 0.28140\n",
            "Epoch 82/100\n",
            "200/200 [==============================] - 236s 1s/step - loss: 1.6125 - acc: 0.9066 - val_loss: 7.3944 - val_acc: 0.2330\n",
            "\n",
            "Epoch 00082: val_acc did not improve from 0.28140\n",
            "Epoch 83/100\n",
            "200/200 [==============================] - 237s 1s/step - loss: 1.5906 - acc: 0.9128 - val_loss: 7.5636 - val_acc: 0.2369\n",
            "\n",
            "Epoch 00083: val_acc did not improve from 0.28140\n",
            "Epoch 84/100\n",
            "200/200 [==============================] - 236s 1s/step - loss: 1.5822 - acc: 0.9154 - val_loss: 7.3496 - val_acc: 0.2292\n",
            "\n",
            "Epoch 00084: val_acc did not improve from 0.28140\n",
            "Epoch 85/100\n",
            "200/200 [==============================] - 235s 1s/step - loss: 1.5984 - acc: 0.9095 - val_loss: 7.6750 - val_acc: 0.2286\n",
            "\n",
            "Epoch 00085: val_acc did not improve from 0.28140\n",
            "Epoch 86/100\n",
            "200/200 [==============================] - 236s 1s/step - loss: 1.5889 - acc: 0.9136 - val_loss: 7.2110 - val_acc: 0.2415\n",
            "\n",
            "Epoch 00086: val_acc did not improve from 0.28140\n",
            "Epoch 87/100\n",
            "200/200 [==============================] - 235s 1s/step - loss: 1.5550 - acc: 0.9205 - val_loss: 7.7330 - val_acc: 0.2339\n",
            "\n",
            "Epoch 00087: val_acc did not improve from 0.28140\n",
            "Epoch 88/100\n",
            "200/200 [==============================] - 236s 1s/step - loss: 1.5540 - acc: 0.9183 - val_loss: 7.7562 - val_acc: 0.2173\n",
            "\n",
            "Epoch 00088: val_acc did not improve from 0.28140\n",
            "Epoch 89/100\n",
            "200/200 [==============================] - 236s 1s/step - loss: 1.5766 - acc: 0.9107 - val_loss: 7.4342 - val_acc: 0.2398\n",
            "\n",
            "Epoch 00089: val_acc did not improve from 0.28140\n",
            "Epoch 90/100\n",
            "200/200 [==============================] - 236s 1s/step - loss: 1.5870 - acc: 0.9096 - val_loss: 8.0937 - val_acc: 0.2116\n",
            "\n",
            "Epoch 00090: val_acc did not improve from 0.28140\n",
            "Epoch 91/100\n",
            "200/200 [==============================] - 235s 1s/step - loss: 1.5732 - acc: 0.9145 - val_loss: 7.2655 - val_acc: 0.2458\n",
            "\n",
            "Epoch 00091: val_acc did not improve from 0.28140\n",
            "Epoch 92/100\n",
            "200/200 [==============================] - 236s 1s/step - loss: 1.5385 - acc: 0.9215 - val_loss: 7.5526 - val_acc: 0.2372\n",
            "\n",
            "Epoch 00092: val_acc did not improve from 0.28140\n",
            "Epoch 93/100\n",
            " 47/200 [======>.......................] - ETA: 2:53 - loss: 1.4842 - acc: 0.9397"
          ],
          "name": "stdout"
        },
        {
          "output_type": "error",
          "ename": "KeyboardInterrupt",
          "evalue": "ignored",
          "traceback": [
            "\u001b[0;31m---------------------------------------------------------------------------\u001b[0m",
            "\u001b[0;31mKeyboardInterrupt\u001b[0m                         Traceback (most recent call last)",
            "\u001b[0;32m<ipython-input-18-5e757e950357>\u001b[0m in \u001b[0;36m<module>\u001b[0;34m()\u001b[0m\n\u001b[1;32m      8\u001b[0m                     \u001b[0mvalidation_steps\u001b[0m\u001b[0;34m=\u001b[0m\u001b[0mVAL_STEP_SIZE\u001b[0m\u001b[0;34m,\u001b[0m\u001b[0;34m\u001b[0m\u001b[0;34m\u001b[0m\u001b[0m\n\u001b[1;32m      9\u001b[0m                     \u001b[0mvalidation_data\u001b[0m\u001b[0;34m=\u001b[0m\u001b[0mvalidation_generator\u001b[0m\u001b[0;34m,\u001b[0m\u001b[0;34m\u001b[0m\u001b[0;34m\u001b[0m\u001b[0m\n\u001b[0;32m---> 10\u001b[0;31m                     callbacks = callbacks_list)\n\u001b[0m",
            "\u001b[0;32m/usr/local/lib/python3.6/dist-packages/keras/legacy/interfaces.py\u001b[0m in \u001b[0;36mwrapper\u001b[0;34m(*args, **kwargs)\u001b[0m\n\u001b[1;32m     89\u001b[0m                 warnings.warn('Update your `' + object_name + '` call to the ' +\n\u001b[1;32m     90\u001b[0m                               'Keras 2 API: ' + signature, stacklevel=2)\n\u001b[0;32m---> 91\u001b[0;31m             \u001b[0;32mreturn\u001b[0m \u001b[0mfunc\u001b[0m\u001b[0;34m(\u001b[0m\u001b[0;34m*\u001b[0m\u001b[0margs\u001b[0m\u001b[0;34m,\u001b[0m \u001b[0;34m**\u001b[0m\u001b[0mkwargs\u001b[0m\u001b[0;34m)\u001b[0m\u001b[0;34m\u001b[0m\u001b[0;34m\u001b[0m\u001b[0m\n\u001b[0m\u001b[1;32m     92\u001b[0m         \u001b[0mwrapper\u001b[0m\u001b[0;34m.\u001b[0m\u001b[0m_original_function\u001b[0m \u001b[0;34m=\u001b[0m \u001b[0mfunc\u001b[0m\u001b[0;34m\u001b[0m\u001b[0;34m\u001b[0m\u001b[0m\n\u001b[1;32m     93\u001b[0m         \u001b[0;32mreturn\u001b[0m \u001b[0mwrapper\u001b[0m\u001b[0;34m\u001b[0m\u001b[0;34m\u001b[0m\u001b[0m\n",
            "\u001b[0;32m/usr/local/lib/python3.6/dist-packages/keras/engine/training.py\u001b[0m in \u001b[0;36mfit_generator\u001b[0;34m(self, generator, steps_per_epoch, epochs, verbose, callbacks, validation_data, validation_steps, class_weight, max_queue_size, workers, use_multiprocessing, shuffle, initial_epoch)\u001b[0m\n\u001b[1;32m   1416\u001b[0m             \u001b[0muse_multiprocessing\u001b[0m\u001b[0;34m=\u001b[0m\u001b[0muse_multiprocessing\u001b[0m\u001b[0;34m,\u001b[0m\u001b[0;34m\u001b[0m\u001b[0;34m\u001b[0m\u001b[0m\n\u001b[1;32m   1417\u001b[0m             \u001b[0mshuffle\u001b[0m\u001b[0;34m=\u001b[0m\u001b[0mshuffle\u001b[0m\u001b[0;34m,\u001b[0m\u001b[0;34m\u001b[0m\u001b[0;34m\u001b[0m\u001b[0m\n\u001b[0;32m-> 1418\u001b[0;31m             initial_epoch=initial_epoch)\n\u001b[0m\u001b[1;32m   1419\u001b[0m \u001b[0;34m\u001b[0m\u001b[0m\n\u001b[1;32m   1420\u001b[0m     \u001b[0;34m@\u001b[0m\u001b[0minterfaces\u001b[0m\u001b[0;34m.\u001b[0m\u001b[0mlegacy_generator_methods_support\u001b[0m\u001b[0;34m\u001b[0m\u001b[0;34m\u001b[0m\u001b[0m\n",
            "\u001b[0;32m/usr/local/lib/python3.6/dist-packages/keras/engine/training_generator.py\u001b[0m in \u001b[0;36mfit_generator\u001b[0;34m(model, generator, steps_per_epoch, epochs, verbose, callbacks, validation_data, validation_steps, class_weight, max_queue_size, workers, use_multiprocessing, shuffle, initial_epoch)\u001b[0m\n\u001b[1;32m    215\u001b[0m                 outs = model.train_on_batch(x, y,\n\u001b[1;32m    216\u001b[0m                                             \u001b[0msample_weight\u001b[0m\u001b[0;34m=\u001b[0m\u001b[0msample_weight\u001b[0m\u001b[0;34m,\u001b[0m\u001b[0;34m\u001b[0m\u001b[0;34m\u001b[0m\u001b[0m\n\u001b[0;32m--> 217\u001b[0;31m                                             class_weight=class_weight)\n\u001b[0m\u001b[1;32m    218\u001b[0m \u001b[0;34m\u001b[0m\u001b[0m\n\u001b[1;32m    219\u001b[0m                 \u001b[0mouts\u001b[0m \u001b[0;34m=\u001b[0m \u001b[0mto_list\u001b[0m\u001b[0;34m(\u001b[0m\u001b[0mouts\u001b[0m\u001b[0;34m)\u001b[0m\u001b[0;34m\u001b[0m\u001b[0;34m\u001b[0m\u001b[0m\n",
            "\u001b[0;32m/usr/local/lib/python3.6/dist-packages/keras/engine/training.py\u001b[0m in \u001b[0;36mtrain_on_batch\u001b[0;34m(self, x, y, sample_weight, class_weight)\u001b[0m\n\u001b[1;32m   1215\u001b[0m             \u001b[0mins\u001b[0m \u001b[0;34m=\u001b[0m \u001b[0mx\u001b[0m \u001b[0;34m+\u001b[0m \u001b[0my\u001b[0m \u001b[0;34m+\u001b[0m \u001b[0msample_weights\u001b[0m\u001b[0;34m\u001b[0m\u001b[0;34m\u001b[0m\u001b[0m\n\u001b[1;32m   1216\u001b[0m         \u001b[0mself\u001b[0m\u001b[0;34m.\u001b[0m\u001b[0m_make_train_function\u001b[0m\u001b[0;34m(\u001b[0m\u001b[0;34m)\u001b[0m\u001b[0;34m\u001b[0m\u001b[0;34m\u001b[0m\u001b[0m\n\u001b[0;32m-> 1217\u001b[0;31m         \u001b[0moutputs\u001b[0m \u001b[0;34m=\u001b[0m \u001b[0mself\u001b[0m\u001b[0;34m.\u001b[0m\u001b[0mtrain_function\u001b[0m\u001b[0;34m(\u001b[0m\u001b[0mins\u001b[0m\u001b[0;34m)\u001b[0m\u001b[0;34m\u001b[0m\u001b[0;34m\u001b[0m\u001b[0m\n\u001b[0m\u001b[1;32m   1218\u001b[0m         \u001b[0;32mreturn\u001b[0m \u001b[0munpack_singleton\u001b[0m\u001b[0;34m(\u001b[0m\u001b[0moutputs\u001b[0m\u001b[0;34m)\u001b[0m\u001b[0;34m\u001b[0m\u001b[0;34m\u001b[0m\u001b[0m\n\u001b[1;32m   1219\u001b[0m \u001b[0;34m\u001b[0m\u001b[0m\n",
            "\u001b[0;32m/usr/local/lib/python3.6/dist-packages/keras/backend/tensorflow_backend.py\u001b[0m in \u001b[0;36m__call__\u001b[0;34m(self, inputs)\u001b[0m\n\u001b[1;32m   2713\u001b[0m                 \u001b[0;32mreturn\u001b[0m \u001b[0mself\u001b[0m\u001b[0;34m.\u001b[0m\u001b[0m_legacy_call\u001b[0m\u001b[0;34m(\u001b[0m\u001b[0minputs\u001b[0m\u001b[0;34m)\u001b[0m\u001b[0;34m\u001b[0m\u001b[0;34m\u001b[0m\u001b[0m\n\u001b[1;32m   2714\u001b[0m \u001b[0;34m\u001b[0m\u001b[0m\n\u001b[0;32m-> 2715\u001b[0;31m             \u001b[0;32mreturn\u001b[0m \u001b[0mself\u001b[0m\u001b[0;34m.\u001b[0m\u001b[0m_call\u001b[0m\u001b[0;34m(\u001b[0m\u001b[0minputs\u001b[0m\u001b[0;34m)\u001b[0m\u001b[0;34m\u001b[0m\u001b[0;34m\u001b[0m\u001b[0m\n\u001b[0m\u001b[1;32m   2716\u001b[0m         \u001b[0;32melse\u001b[0m\u001b[0;34m:\u001b[0m\u001b[0;34m\u001b[0m\u001b[0;34m\u001b[0m\u001b[0m\n\u001b[1;32m   2717\u001b[0m             \u001b[0;32mif\u001b[0m \u001b[0mpy_any\u001b[0m\u001b[0;34m(\u001b[0m\u001b[0mis_tensor\u001b[0m\u001b[0;34m(\u001b[0m\u001b[0mx\u001b[0m\u001b[0;34m)\u001b[0m \u001b[0;32mfor\u001b[0m \u001b[0mx\u001b[0m \u001b[0;32min\u001b[0m \u001b[0minputs\u001b[0m\u001b[0;34m)\u001b[0m\u001b[0;34m:\u001b[0m\u001b[0;34m\u001b[0m\u001b[0;34m\u001b[0m\u001b[0m\n",
            "\u001b[0;32m/usr/local/lib/python3.6/dist-packages/keras/backend/tensorflow_backend.py\u001b[0m in \u001b[0;36m_call\u001b[0;34m(self, inputs)\u001b[0m\n\u001b[1;32m   2673\u001b[0m             \u001b[0mfetched\u001b[0m \u001b[0;34m=\u001b[0m \u001b[0mself\u001b[0m\u001b[0;34m.\u001b[0m\u001b[0m_callable_fn\u001b[0m\u001b[0;34m(\u001b[0m\u001b[0;34m*\u001b[0m\u001b[0marray_vals\u001b[0m\u001b[0;34m,\u001b[0m \u001b[0mrun_metadata\u001b[0m\u001b[0;34m=\u001b[0m\u001b[0mself\u001b[0m\u001b[0;34m.\u001b[0m\u001b[0mrun_metadata\u001b[0m\u001b[0;34m)\u001b[0m\u001b[0;34m\u001b[0m\u001b[0;34m\u001b[0m\u001b[0m\n\u001b[1;32m   2674\u001b[0m         \u001b[0;32melse\u001b[0m\u001b[0;34m:\u001b[0m\u001b[0;34m\u001b[0m\u001b[0;34m\u001b[0m\u001b[0m\n\u001b[0;32m-> 2675\u001b[0;31m             \u001b[0mfetched\u001b[0m \u001b[0;34m=\u001b[0m \u001b[0mself\u001b[0m\u001b[0;34m.\u001b[0m\u001b[0m_callable_fn\u001b[0m\u001b[0;34m(\u001b[0m\u001b[0;34m*\u001b[0m\u001b[0marray_vals\u001b[0m\u001b[0;34m)\u001b[0m\u001b[0;34m\u001b[0m\u001b[0;34m\u001b[0m\u001b[0m\n\u001b[0m\u001b[1;32m   2676\u001b[0m         \u001b[0;32mreturn\u001b[0m \u001b[0mfetched\u001b[0m\u001b[0;34m[\u001b[0m\u001b[0;34m:\u001b[0m\u001b[0mlen\u001b[0m\u001b[0;34m(\u001b[0m\u001b[0mself\u001b[0m\u001b[0;34m.\u001b[0m\u001b[0moutputs\u001b[0m\u001b[0;34m)\u001b[0m\u001b[0;34m]\u001b[0m\u001b[0;34m\u001b[0m\u001b[0;34m\u001b[0m\u001b[0m\n\u001b[1;32m   2677\u001b[0m \u001b[0;34m\u001b[0m\u001b[0m\n",
            "\u001b[0;32m/usr/local/lib/python3.6/dist-packages/tensorflow/python/client/session.py\u001b[0m in \u001b[0;36m__call__\u001b[0;34m(self, *args, **kwargs)\u001b[0m\n\u001b[1;32m   1437\u001b[0m           ret = tf_session.TF_SessionRunCallable(\n\u001b[1;32m   1438\u001b[0m               \u001b[0mself\u001b[0m\u001b[0;34m.\u001b[0m\u001b[0m_session\u001b[0m\u001b[0;34m.\u001b[0m\u001b[0m_session\u001b[0m\u001b[0;34m,\u001b[0m \u001b[0mself\u001b[0m\u001b[0;34m.\u001b[0m\u001b[0m_handle\u001b[0m\u001b[0;34m,\u001b[0m \u001b[0margs\u001b[0m\u001b[0;34m,\u001b[0m \u001b[0mstatus\u001b[0m\u001b[0;34m,\u001b[0m\u001b[0;34m\u001b[0m\u001b[0;34m\u001b[0m\u001b[0m\n\u001b[0;32m-> 1439\u001b[0;31m               run_metadata_ptr)\n\u001b[0m\u001b[1;32m   1440\u001b[0m         \u001b[0;32mif\u001b[0m \u001b[0mrun_metadata\u001b[0m\u001b[0;34m:\u001b[0m\u001b[0;34m\u001b[0m\u001b[0;34m\u001b[0m\u001b[0m\n\u001b[1;32m   1441\u001b[0m           \u001b[0mproto_data\u001b[0m \u001b[0;34m=\u001b[0m \u001b[0mtf_session\u001b[0m\u001b[0;34m.\u001b[0m\u001b[0mTF_GetBuffer\u001b[0m\u001b[0;34m(\u001b[0m\u001b[0mrun_metadata_ptr\u001b[0m\u001b[0;34m)\u001b[0m\u001b[0;34m\u001b[0m\u001b[0;34m\u001b[0m\u001b[0m\n",
            "\u001b[0;31mKeyboardInterrupt\u001b[0m: "
          ]
        }
      ]
    },
    {
      "metadata": {
        "id": "2Puy0N0TDVY7",
        "colab_type": "text"
      },
      "cell_type": "markdown",
      "source": [
        "**Interupted the training as it seems to have hit local minima. Next planning to increase the learning rate for feaw initial epochs and train again from 53rd epoch.**"
      ]
    },
    {
      "metadata": {
        "id": "-h4abikdElmp",
        "colab_type": "text"
      },
      "cell_type": "markdown",
      "source": [
        "## Retraining from 54th Epoch with increased Learning Rate"
      ]
    },
    {
      "metadata": {
        "colab_type": "code",
        "id": "MF5ITb1mE1jn",
        "colab": {}
      },
      "cell_type": "code",
      "source": [
        "model = ResnetBuilder.build_resnet_50(input_shape = (3,64,64), num_outputs = 200)\n",
        "model.load_weights('/content/gdrive/My Drive/Colab Notebooks/epochs:052-val_acc:0.263.hdf5')\n"
      ],
      "execution_count": 0,
      "outputs": []
    },
    {
      "metadata": {
        "colab_type": "code",
        "id": "4hVZDuHiE1jw",
        "colab": {}
      },
      "cell_type": "code",
      "source": [
        "from keras import optimizers\n",
        "adam = optimizers.Adam(lr = 0.001)\n",
        "def get_lr_metric(optimizer):\n",
        "    def lr(y_true, y_pred):\n",
        "        return optimizer.lr\n",
        "    return lr\n",
        "\n",
        "\n",
        "lr_metric = get_lr_metric(adam)\n",
        "\n",
        "model.compile(loss='categorical_crossentropy',\n",
        "             optimizer=adam,\n",
        "             metrics=['accuracy', lr_metric])"
      ],
      "execution_count": 0,
      "outputs": []
    },
    {
      "metadata": {
        "colab_type": "code",
        "outputId": "0046f350-d327-4c9e-a6f5-ebc310b31dac",
        "id": "Q9Gz1pXpE1j5",
        "colab": {
          "base_uri": "https://localhost:8080/",
          "height": 131
        }
      },
      "cell_type": "code",
      "source": [
        "from keras.callbacks import *\n",
        "\n",
        "filepath=\"/content/gdrive/My Drive/Colab Notebooks/epochs:{epoch:03d}-val_acc:{val_acc:.3f}.hdf5\"\n",
        "checkpoint = ModelCheckpoint(filepath, monitor='val_acc', verbose=1, save_best_only=True, mode='max')\n",
        "reduce_lr = ReduceLROnPlateau(monitor='val_loss', factor=0.2,\n",
        "                              patience=5, min_lr=0.0001)\n",
        "\n",
        "       \n",
        "callbacks_list = [checkpoint, reduce_lr]\n",
        "\n",
        "\n",
        "TRAIN_STEP_SIZE = train_generator.n//train_generator.batch_size\n",
        "VAL_STEP_SIZE = validation_generator.n//validation_generator.batch_size\n",
        "model.fit_generator(train_generator, \n",
        "                    initial_epoch = 53,\n",
        "                    epochs=100,\n",
        "                    steps_per_epoch = TRAIN_STEP_SIZE,\n",
        "                    validation_steps=VAL_STEP_SIZE,\n",
        "                    validation_data=validation_generator,\n",
        "                    callbacks = callbacks_list)"
      ],
      "execution_count": 0,
      "outputs": [
        {
          "output_type": "stream",
          "text": [
            "WARNING:tensorflow:From /usr/local/lib/python3.6/dist-packages/tensorflow/python/ops/math_ops.py:3066: to_int32 (from tensorflow.python.ops.math_ops) is deprecated and will be removed in a future version.\n",
            "Instructions for updating:\n",
            "Use tf.cast instead.\n",
            "Epoch 54/100\n",
            " 96/200 [=============>................] - ETA: 2:27 - loss: 3.1886 - acc: 0.4909 - lr: 0.0010"
          ],
          "name": "stdout"
        }
      ]
    }
  ]
}